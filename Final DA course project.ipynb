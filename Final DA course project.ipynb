{
 "cells": [
  {
   "cell_type": "markdown",
   "metadata": {},
   "source": [
    "<div class=\"alert alert-success\" role=\"alert\">\n",
    "  Hello, Jade! Your project is great! It is very convenient and understandable to read it. Also I like a lot your summaries after each block. It's super useful. I left only one yellow comment. But it's about code and not about data analysis. Congratulations, you finished the project and did it very well:) To finish the course you need only to make presentation and dashboard. I will return the project so you can add links to them in it. I think it's more convenient than to send me them in DM in slack:)\n",
    "</div>"
   ]
  },
  {
   "cell_type": "markdown",
   "metadata": {},
   "source": [
    "<div class=\"alert alert-success\" role=\"alert\">\n",
    "  Congratulations, you finished the course! Last advice: read somewhere how to design the presentations properly with title and finish slides:)\n",
    "</div>"
   ]
  },
  {
   "cell_type": "markdown",
   "metadata": {},
   "source": [
    "### Project description\n",
    "\n",
    "The virtual telephony service CallMeMaybe is developing a new function that will give supervisors information on the least effective operators. An operator is considered ineffective if they have a large number of missed incoming calls (internal and external) and a long waiting time for incoming calls. Moreover, if an operator is supposed to make outgoing calls, a small number of them is also a sign of ineffectiveness.\n",
    "\n",
    "- Carry out exploratory data analysis\n",
    "- Identify ineffective operators\n",
    "- Test statistical hypotheses"
   ]
  },
  {
   "cell_type": "markdown",
   "metadata": {},
   "source": [
    "The dataset `telecom_dataset_us.csv` contains the following columns:\n",
    "- **user_id** - client account ID\n",
    "- **date** - date the statistics were retrieved\n",
    "- **direction** - call direction (**out** for outgoing, **in** for incoming)\n",
    "- **internal** - whether the call was internal (between a client's operators)\n",
    "- **operator_id** - operator identifier\n",
    "- **is_missed_call** - whether the call was missed\n",
    "- **calls_count** - number of calls\n",
    "- **call_duration** - call duration (excluding waiting time) in seconds\n",
    "- **total_call_duration** - call duration (including waiting time) in seconds\n",
    "\n",
    "The dataset `telecom_clients_us.csv` has the following columns:\n",
    "- **user_id** - client account ID\n",
    "- **tariff_plan** - client's current plan\n",
    "- **date_start** - client's registration date"
   ]
  },
  {
   "cell_type": "markdown",
   "metadata": {},
   "source": [
    "## Table of Contents\n",
    "* [1.Opening and reading the data file](#open_data)\n",
    "    * [1.1.All imports sorted alphabetically](#imports)\n",
    "    * [1.2.Open the data file and reading the general information](#read_data)\n",
    "* [2.Data preprocessing](#data_preprocessing)\n",
    "    * [2.1.Dealing with missing values](#missing_values)\n",
    "    * [2.2.Changing data type](#data_type)\n",
    "    * [2.3.Dealing with duplicated data](#duplicated_data)\n",
    "    * [2.4.Adding date columns to the call data ](#addidng_date)\n",
    "    * [2.5.Dealing with anomolies in the data ](#anomolies)   \n",
    "    * [2.6.Data preprocessing brief summary](#brief_summary)\n",
    "* [3.Exploratory data analysis(EDA)](#eda)\n",
    "    * [3.1.Mean values and descriptives](#mean_values)\n",
    "    * [3.2.Mean values in incoming vs outgoing calls](#mean_features_direction)\n",
    "    * [3.3.Mean feature values for internal vs external calls](#mean_features_intrnal)\n",
    "    * [3.4.Removing outliers](#outliers)\n",
    "    * [3.6.EDA summary](#eda_summary)  \n",
    "* [4.Analysis of the data](#anayze)\n",
    "    * [4.1.Number of calls per operator, on average and total](#calls_operator)\n",
    "    * [4.2.Outging calls per operator](#outgoing_calls)\n",
    "    * [4.3.Missed incoming calls per operator](#missed_incoming)\n",
    "    * [4.4.Waiting time per operator, on average and total ](#waiting_time)\n",
    "    * [4.5.Analysis Summary](#analysis_summary)\n",
    "* [5.Testing hypothesis](#testing_hypothesis)\n",
    "    * [5.1.Filtering the data](#filtering_data)\n",
    "    * [5.2.Distribution of ineffective and effective operators data](#disrtibution)\n",
    "    * [5.3.Testing the hypothesis](#test)\n",
    "    * [5.4.Testing hypothesis summary](#hypothesis_summary)    \n",
    "* [6.General conclusion](#general_conclusion) \n",
    "* [7.Articles](#Articles) \n",
    "* [8.Presentation link](#presentation) \n",
    "* [7.Dashboard link](#dashboard) "
   ]
  },
  {
   "cell_type": "markdown",
   "metadata": {},
   "source": [
    "### 1. Opening and reading the data file <a class=\"anchor\" id=\"open_data\"></a>"
   ]
  },
  {
   "cell_type": "markdown",
   "metadata": {},
   "source": [
    "#### All imports sorted alphabetically <a class=\"anchor\" id=\"imports\"></a>"
   ]
  },
  {
   "cell_type": "code",
   "execution_count": 1,
   "metadata": {},
   "outputs": [],
   "source": [
    "import matplotlib as matp\n",
    "import matplotlib.pyplot as plt\n",
    "import numpy as np\n",
    "import pandas as pd\n",
    "from scipy import stats as st\n",
    "from scipy.stats import mannwhitneyu\n",
    "import seaborn as sns\n"
   ]
  },
  {
   "cell_type": "markdown",
   "metadata": {},
   "source": [
    "#### Open the data file and study the general information <a class=\"anchor\" id=\"read_data\"></a>"
   ]
  },
  {
   "cell_type": "code",
   "execution_count": 2,
   "metadata": {},
   "outputs": [],
   "source": [
    "call_data= pd.read_csv('/datasets/telecom_dataset_us.csv')\n",
    "client_data= pd.read_csv('/datasets//telecom_clients_us.csv')"
   ]
  },
  {
   "cell_type": "code",
   "execution_count": 3,
   "metadata": {},
   "outputs": [
    {
     "data": {
      "text/html": [
       "<div>\n",
       "<style scoped>\n",
       "    .dataframe tbody tr th:only-of-type {\n",
       "        vertical-align: middle;\n",
       "    }\n",
       "\n",
       "    .dataframe tbody tr th {\n",
       "        vertical-align: top;\n",
       "    }\n",
       "\n",
       "    .dataframe thead th {\n",
       "        text-align: right;\n",
       "    }\n",
       "</style>\n",
       "<table border=\"1\" class=\"dataframe\">\n",
       "  <thead>\n",
       "    <tr style=\"text-align: right;\">\n",
       "      <th></th>\n",
       "      <th>user_id</th>\n",
       "      <th>date</th>\n",
       "      <th>direction</th>\n",
       "      <th>internal</th>\n",
       "      <th>operator_id</th>\n",
       "      <th>is_missed_call</th>\n",
       "      <th>calls_count</th>\n",
       "      <th>call_duration</th>\n",
       "      <th>total_call_duration</th>\n",
       "    </tr>\n",
       "  </thead>\n",
       "  <tbody>\n",
       "    <tr>\n",
       "      <td>27257</td>\n",
       "      <td>167175</td>\n",
       "      <td>2019-10-07 00:00:00+03:00</td>\n",
       "      <td>out</td>\n",
       "      <td>False</td>\n",
       "      <td>905844.0</td>\n",
       "      <td>False</td>\n",
       "      <td>4</td>\n",
       "      <td>330</td>\n",
       "      <td>418</td>\n",
       "    </tr>\n",
       "    <tr>\n",
       "      <td>4843</td>\n",
       "      <td>166511</td>\n",
       "      <td>2019-10-18 00:00:00+03:00</td>\n",
       "      <td>in</td>\n",
       "      <td>False</td>\n",
       "      <td>891414.0</td>\n",
       "      <td>False</td>\n",
       "      <td>6</td>\n",
       "      <td>830</td>\n",
       "      <td>893</td>\n",
       "    </tr>\n",
       "    <tr>\n",
       "      <td>9603</td>\n",
       "      <td>166658</td>\n",
       "      <td>2019-11-11 00:00:00+03:00</td>\n",
       "      <td>out</td>\n",
       "      <td>False</td>\n",
       "      <td>890404.0</td>\n",
       "      <td>True</td>\n",
       "      <td>10</td>\n",
       "      <td>0</td>\n",
       "      <td>273</td>\n",
       "    </tr>\n",
       "    <tr>\n",
       "      <td>42364</td>\n",
       "      <td>167949</td>\n",
       "      <td>2019-11-11 00:00:00+03:00</td>\n",
       "      <td>out</td>\n",
       "      <td>False</td>\n",
       "      <td>941384.0</td>\n",
       "      <td>False</td>\n",
       "      <td>14</td>\n",
       "      <td>2548</td>\n",
       "      <td>2750</td>\n",
       "    </tr>\n",
       "    <tr>\n",
       "      <td>7362</td>\n",
       "      <td>166584</td>\n",
       "      <td>2019-08-16 00:00:00+03:00</td>\n",
       "      <td>in</td>\n",
       "      <td>False</td>\n",
       "      <td>NaN</td>\n",
       "      <td>True</td>\n",
       "      <td>2</td>\n",
       "      <td>0</td>\n",
       "      <td>4</td>\n",
       "    </tr>\n",
       "    <tr>\n",
       "      <td>3921</td>\n",
       "      <td>166495</td>\n",
       "      <td>2019-11-03 00:00:00+03:00</td>\n",
       "      <td>in</td>\n",
       "      <td>False</td>\n",
       "      <td>NaN</td>\n",
       "      <td>True</td>\n",
       "      <td>1</td>\n",
       "      <td>0</td>\n",
       "      <td>2</td>\n",
       "    </tr>\n",
       "    <tr>\n",
       "      <td>37667</td>\n",
       "      <td>167630</td>\n",
       "      <td>2019-11-05 00:00:00+03:00</td>\n",
       "      <td>in</td>\n",
       "      <td>False</td>\n",
       "      <td>920666.0</td>\n",
       "      <td>False</td>\n",
       "      <td>9</td>\n",
       "      <td>1138</td>\n",
       "      <td>1199</td>\n",
       "    </tr>\n",
       "    <tr>\n",
       "      <td>35968</td>\n",
       "      <td>167551</td>\n",
       "      <td>2019-10-14 00:00:00+03:00</td>\n",
       "      <td>out</td>\n",
       "      <td>True</td>\n",
       "      <td>919218.0</td>\n",
       "      <td>False</td>\n",
       "      <td>2</td>\n",
       "      <td>164</td>\n",
       "      <td>190</td>\n",
       "    </tr>\n",
       "    <tr>\n",
       "      <td>48389</td>\n",
       "      <td>168187</td>\n",
       "      <td>2019-11-08 00:00:00+03:00</td>\n",
       "      <td>out</td>\n",
       "      <td>False</td>\n",
       "      <td>937860.0</td>\n",
       "      <td>True</td>\n",
       "      <td>15</td>\n",
       "      <td>0</td>\n",
       "      <td>284</td>\n",
       "    </tr>\n",
       "    <tr>\n",
       "      <td>17286</td>\n",
       "      <td>166916</td>\n",
       "      <td>2019-11-26 00:00:00+03:00</td>\n",
       "      <td>out</td>\n",
       "      <td>True</td>\n",
       "      <td>906402.0</td>\n",
       "      <td>True</td>\n",
       "      <td>1</td>\n",
       "      <td>0</td>\n",
       "      <td>16</td>\n",
       "    </tr>\n",
       "  </tbody>\n",
       "</table>\n",
       "</div>"
      ],
      "text/plain": [
       "       user_id                       date direction internal  operator_id  \\\n",
       "27257   167175  2019-10-07 00:00:00+03:00       out    False     905844.0   \n",
       "4843    166511  2019-10-18 00:00:00+03:00        in    False     891414.0   \n",
       "9603    166658  2019-11-11 00:00:00+03:00       out    False     890404.0   \n",
       "42364   167949  2019-11-11 00:00:00+03:00       out    False     941384.0   \n",
       "7362    166584  2019-08-16 00:00:00+03:00        in    False          NaN   \n",
       "3921    166495  2019-11-03 00:00:00+03:00        in    False          NaN   \n",
       "37667   167630  2019-11-05 00:00:00+03:00        in    False     920666.0   \n",
       "35968   167551  2019-10-14 00:00:00+03:00       out     True     919218.0   \n",
       "48389   168187  2019-11-08 00:00:00+03:00       out    False     937860.0   \n",
       "17286   166916  2019-11-26 00:00:00+03:00       out     True     906402.0   \n",
       "\n",
       "       is_missed_call  calls_count  call_duration  total_call_duration  \n",
       "27257           False            4            330                  418  \n",
       "4843            False            6            830                  893  \n",
       "9603             True           10              0                  273  \n",
       "42364           False           14           2548                 2750  \n",
       "7362             True            2              0                    4  \n",
       "3921             True            1              0                    2  \n",
       "37667           False            9           1138                 1199  \n",
       "35968           False            2            164                  190  \n",
       "48389            True           15              0                  284  \n",
       "17286            True            1              0                   16  "
      ]
     },
     "execution_count": 3,
     "metadata": {},
     "output_type": "execute_result"
    }
   ],
   "source": [
    "call_data.sample(10)"
   ]
  },
  {
   "cell_type": "code",
   "execution_count": 4,
   "metadata": {},
   "outputs": [
    {
     "data": {
      "text/plain": [
       "(53902, 9)"
      ]
     },
     "execution_count": 4,
     "metadata": {},
     "output_type": "execute_result"
    }
   ],
   "source": [
    "call_data.shape"
   ]
  },
  {
   "cell_type": "code",
   "execution_count": 5,
   "metadata": {},
   "outputs": [
    {
     "name": "stdout",
     "output_type": "stream",
     "text": [
      "<class 'pandas.core.frame.DataFrame'>\n",
      "RangeIndex: 53902 entries, 0 to 53901\n",
      "Data columns (total 9 columns):\n",
      "user_id                53902 non-null int64\n",
      "date                   53902 non-null object\n",
      "direction              53902 non-null object\n",
      "internal               53785 non-null object\n",
      "operator_id            45730 non-null float64\n",
      "is_missed_call         53902 non-null bool\n",
      "calls_count            53902 non-null int64\n",
      "call_duration          53902 non-null int64\n",
      "total_call_duration    53902 non-null int64\n",
      "dtypes: bool(1), float64(1), int64(4), object(3)\n",
      "memory usage: 3.3+ MB\n"
     ]
    }
   ],
   "source": [
    "call_data.info()"
   ]
  },
  {
   "cell_type": "code",
   "execution_count": 6,
   "metadata": {},
   "outputs": [
    {
     "data": {
      "text/plain": [
       "user_id                   0\n",
       "date                      0\n",
       "direction                 0\n",
       "internal                117\n",
       "operator_id            8172\n",
       "is_missed_call            0\n",
       "calls_count               0\n",
       "call_duration             0\n",
       "total_call_duration       0\n",
       "dtype: int64"
      ]
     },
     "execution_count": 6,
     "metadata": {},
     "output_type": "execute_result"
    }
   ],
   "source": [
    "call_data.isnull().sum()"
   ]
  },
  {
   "cell_type": "code",
   "execution_count": 7,
   "metadata": {},
   "outputs": [
    {
     "data": {
      "text/plain": [
       "(array([    8,    28,    44, ..., 53875, 53885, 53900]),)"
      ]
     },
     "execution_count": 7,
     "metadata": {},
     "output_type": "execute_result"
    }
   ],
   "source": [
    "#lets check for dupliactes\n",
    "np.where(call_data.duplicated().values)"
   ]
  },
  {
   "cell_type": "code",
   "execution_count": 8,
   "metadata": {},
   "outputs": [
    {
     "data": {
      "text/plain": [
       "user_id                4900\n",
       "date                   4900\n",
       "direction              4900\n",
       "internal               4893\n",
       "operator_id            4184\n",
       "is_missed_call         4900\n",
       "calls_count            4900\n",
       "call_duration          4900\n",
       "total_call_duration    4900\n",
       "dtype: int64"
      ]
     },
     "execution_count": 8,
     "metadata": {},
     "output_type": "execute_result"
    }
   ],
   "source": [
    "call_data.loc[call_data.duplicated(),:].count()"
   ]
  },
  {
   "cell_type": "markdown",
   "metadata": {},
   "source": [
    "**call_data** \n",
    "- Data consists of 9 columns and 53902 rows\n",
    "- We can see missing values for internal (117 values) and operator_id (8172 values)\n",
    "- We can see that we need to change data type for date and internal(should be Boolean)\n",
    "- We can change data type for operator_id- making this an int number rather float\n",
    "- We have duplicated data (4900 rows)"
   ]
  },
  {
   "cell_type": "code",
   "execution_count": 9,
   "metadata": {},
   "outputs": [
    {
     "data": {
      "text/html": [
       "<div>\n",
       "<style scoped>\n",
       "    .dataframe tbody tr th:only-of-type {\n",
       "        vertical-align: middle;\n",
       "    }\n",
       "\n",
       "    .dataframe tbody tr th {\n",
       "        vertical-align: top;\n",
       "    }\n",
       "\n",
       "    .dataframe thead th {\n",
       "        text-align: right;\n",
       "    }\n",
       "</style>\n",
       "<table border=\"1\" class=\"dataframe\">\n",
       "  <thead>\n",
       "    <tr style=\"text-align: right;\">\n",
       "      <th></th>\n",
       "      <th>user_id</th>\n",
       "      <th>tariff_plan</th>\n",
       "      <th>date_start</th>\n",
       "    </tr>\n",
       "  </thead>\n",
       "  <tbody>\n",
       "    <tr>\n",
       "      <td>530</td>\n",
       "      <td>167480</td>\n",
       "      <td>B</td>\n",
       "      <td>2019-09-18</td>\n",
       "    </tr>\n",
       "    <tr>\n",
       "      <td>672</td>\n",
       "      <td>167468</td>\n",
       "      <td>B</td>\n",
       "      <td>2019-09-18</td>\n",
       "    </tr>\n",
       "    <tr>\n",
       "      <td>138</td>\n",
       "      <td>168515</td>\n",
       "      <td>C</td>\n",
       "      <td>2019-10-29</td>\n",
       "    </tr>\n",
       "    <tr>\n",
       "      <td>582</td>\n",
       "      <td>167738</td>\n",
       "      <td>B</td>\n",
       "      <td>2019-09-27</td>\n",
       "    </tr>\n",
       "    <tr>\n",
       "      <td>322</td>\n",
       "      <td>167150</td>\n",
       "      <td>C</td>\n",
       "      <td>2019-09-04</td>\n",
       "    </tr>\n",
       "    <tr>\n",
       "      <td>540</td>\n",
       "      <td>168378</td>\n",
       "      <td>B</td>\n",
       "      <td>2019-10-23</td>\n",
       "    </tr>\n",
       "    <tr>\n",
       "      <td>466</td>\n",
       "      <td>166946</td>\n",
       "      <td>C</td>\n",
       "      <td>2019-08-26</td>\n",
       "    </tr>\n",
       "    <tr>\n",
       "      <td>312</td>\n",
       "      <td>167286</td>\n",
       "      <td>C</td>\n",
       "      <td>2019-09-10</td>\n",
       "    </tr>\n",
       "    <tr>\n",
       "      <td>203</td>\n",
       "      <td>168016</td>\n",
       "      <td>C</td>\n",
       "      <td>2019-10-09</td>\n",
       "    </tr>\n",
       "    <tr>\n",
       "      <td>529</td>\n",
       "      <td>168583</td>\n",
       "      <td>B</td>\n",
       "      <td>2019-10-31</td>\n",
       "    </tr>\n",
       "  </tbody>\n",
       "</table>\n",
       "</div>"
      ],
      "text/plain": [
       "     user_id tariff_plan  date_start\n",
       "530   167480           B  2019-09-18\n",
       "672   167468           B  2019-09-18\n",
       "138   168515           C  2019-10-29\n",
       "582   167738           B  2019-09-27\n",
       "322   167150           C  2019-09-04\n",
       "540   168378           B  2019-10-23\n",
       "466   166946           C  2019-08-26\n",
       "312   167286           C  2019-09-10\n",
       "203   168016           C  2019-10-09\n",
       "529   168583           B  2019-10-31"
      ]
     },
     "execution_count": 9,
     "metadata": {},
     "output_type": "execute_result"
    }
   ],
   "source": [
    "client_data.sample(10)"
   ]
  },
  {
   "cell_type": "code",
   "execution_count": 10,
   "metadata": {},
   "outputs": [
    {
     "data": {
      "text/plain": [
       "(732, 3)"
      ]
     },
     "execution_count": 10,
     "metadata": {},
     "output_type": "execute_result"
    }
   ],
   "source": [
    "client_data.shape"
   ]
  },
  {
   "cell_type": "code",
   "execution_count": 11,
   "metadata": {},
   "outputs": [
    {
     "name": "stdout",
     "output_type": "stream",
     "text": [
      "<class 'pandas.core.frame.DataFrame'>\n",
      "RangeIndex: 732 entries, 0 to 731\n",
      "Data columns (total 3 columns):\n",
      "user_id        732 non-null int64\n",
      "tariff_plan    732 non-null object\n",
      "date_start     732 non-null object\n",
      "dtypes: int64(1), object(2)\n",
      "memory usage: 17.3+ KB\n"
     ]
    }
   ],
   "source": [
    "client_data.info()"
   ]
  },
  {
   "cell_type": "code",
   "execution_count": 12,
   "metadata": {},
   "outputs": [
    {
     "data": {
      "text/plain": [
       "(array([], dtype=int64),)"
      ]
     },
     "execution_count": 12,
     "metadata": {},
     "output_type": "execute_result"
    }
   ],
   "source": [
    "#lets check for dupliactes\n",
    "np.where(client_data.duplicated().values)"
   ]
  },
  {
   "cell_type": "markdown",
   "metadata": {},
   "source": [
    "**client_data** \n",
    "- Data consists of 3 columns and 732 rows\n",
    "- We dont have any missing values\n",
    "- We need to change date type for data_start column\n",
    "- We dont have any duplicated data"
   ]
  },
  {
   "cell_type": "markdown",
   "metadata": {},
   "source": [
    "### Step 2. Data preprocessing <a class=\"anchor\" id=\"data_preprocessing\"></a>"
   ]
  },
  {
   "cell_type": "markdown",
   "metadata": {},
   "source": [
    "<br> - **Find and eliminate errors and anomalies in the data\n",
    "<br> - Take care of duplicates\n",
    "<br> - Add a seperate column for months**"
   ]
  },
  {
   "cell_type": "markdown",
   "metadata": {},
   "source": [
    "#### 2.1. Dealing with missing values <a class=\"anchor\" id=\"missing_values\"></a>"
   ]
  },
  {
   "cell_type": "code",
   "execution_count": 13,
   "metadata": {},
   "outputs": [
    {
     "data": {
      "text/plain": [
       "user_id                   0\n",
       "date                      0\n",
       "direction                 0\n",
       "internal                117\n",
       "operator_id            8172\n",
       "is_missed_call            0\n",
       "calls_count               0\n",
       "call_duration             0\n",
       "total_call_duration       0\n",
       "dtype: int64"
      ]
     },
     "execution_count": 13,
     "metadata": {},
     "output_type": "execute_result"
    }
   ],
   "source": [
    "#Lets first deal with our missing values before changing our data type \n",
    "call_data.isna().sum()"
   ]
  },
  {
   "cell_type": "code",
   "execution_count": 14,
   "metadata": {},
   "outputs": [
    {
     "data": {
      "text/plain": [
       "0.15377908055359726"
      ]
     },
     "execution_count": 14,
     "metadata": {},
     "output_type": "execute_result"
    }
   ],
   "source": [
    "(117+8172)/len(call_data)"
   ]
  },
  {
   "cell_type": "markdown",
   "metadata": {},
   "source": [
    "Unfurtunalty we have no way to fill in the missing values here values we dont have any additional data that will allow us to so. I therefore decided to drop these rows of data. "
   ]
  },
  {
   "cell_type": "code",
   "execution_count": 15,
   "metadata": {},
   "outputs": [],
   "source": [
    "#lets drop the missing values\n",
    "call_data=call_data.dropna()"
   ]
  },
  {
   "cell_type": "code",
   "execution_count": 16,
   "metadata": {},
   "outputs": [
    {
     "data": {
      "text/plain": [
       "user_id                0\n",
       "date                   0\n",
       "direction              0\n",
       "internal               0\n",
       "operator_id            0\n",
       "is_missed_call         0\n",
       "calls_count            0\n",
       "call_duration          0\n",
       "total_call_duration    0\n",
       "dtype: int64"
      ]
     },
     "execution_count": 16,
     "metadata": {},
     "output_type": "execute_result"
    }
   ],
   "source": [
    "#and lets ensre our data is clean from missing values \n",
    "call_data.isna().sum()"
   ]
  },
  {
   "cell_type": "markdown",
   "metadata": {},
   "source": [
    "<div class=\"alert alert-success\" role=\"alert\">\n",
    "  Yes, we can't fill missing values in operator_id column, so to drop them is really the best idea to deal with them. We can fill missing values in 'internal' column somehow. But because there are few missing values, it's also okey to just drop them.\n",
    "</div>"
   ]
  },
  {
   "cell_type": "markdown",
   "metadata": {},
   "source": [
    "#### 2.2. Changing data types <a class=\"anchor\" id=\"data_type\"></a>"
   ]
  },
  {
   "cell_type": "code",
   "execution_count": 17,
   "metadata": {},
   "outputs": [],
   "source": [
    "client_data['date_start']=pd.to_datetime(client_data['date_start'],format='%Y-%m-%d')\n",
    "call_data['date']=pd.to_datetime(call_data['date'],format='%Y-%m-%d')\n",
    "call_data['internal']=call_data['internal'].astype('bool')\n",
    "call_data['operator_id']=call_data['operator_id'].astype(int)"
   ]
  },
  {
   "cell_type": "code",
   "execution_count": 18,
   "metadata": {},
   "outputs": [
    {
     "name": "stdout",
     "output_type": "stream",
     "text": [
      "<class 'pandas.core.frame.DataFrame'>\n",
      "Int64Index: 45670 entries, 1 to 53900\n",
      "Data columns (total 9 columns):\n",
      "user_id                45670 non-null int64\n",
      "date                   45670 non-null datetime64[ns, pytz.FixedOffset(180)]\n",
      "direction              45670 non-null object\n",
      "internal               45670 non-null bool\n",
      "operator_id            45670 non-null int64\n",
      "is_missed_call         45670 non-null bool\n",
      "calls_count            45670 non-null int64\n",
      "call_duration          45670 non-null int64\n",
      "total_call_duration    45670 non-null int64\n",
      "dtypes: bool(2), datetime64[ns, pytz.FixedOffset(180)](1), int64(5), object(1)\n",
      "memory usage: 2.9+ MB\n"
     ]
    }
   ],
   "source": [
    "call_data.info()"
   ]
  },
  {
   "cell_type": "markdown",
   "metadata": {},
   "source": [
    "#### 2.3. Dealing with duplicated data  <a class=\"anchor\" id=\"duplicated_data\"></a>"
   ]
  },
  {
   "cell_type": "code",
   "execution_count": 19,
   "metadata": {},
   "outputs": [
    {
     "data": {
      "text/plain": [
       "user_id                4179\n",
       "date                   4179\n",
       "direction              4179\n",
       "internal               4179\n",
       "operator_id            4179\n",
       "is_missed_call         4179\n",
       "calls_count            4179\n",
       "call_duration          4179\n",
       "total_call_duration    4179\n",
       "dtype: int64"
      ]
     },
     "execution_count": 19,
     "metadata": {},
     "output_type": "execute_result"
    }
   ],
   "source": [
    "#lers recheck duplicated data now that we have deleated rows with missing values \n",
    "call_data.loc[call_data.duplicated(),:].count()"
   ]
  },
  {
   "cell_type": "markdown",
   "metadata": {},
   "source": [
    "we now have 4179 rows of duplicated data compared with the 4900 rows we had before deleating missing values"
   ]
  },
  {
   "cell_type": "code",
   "execution_count": 20,
   "metadata": {},
   "outputs": [
    {
     "data": {
      "text/plain": [
       "0.09189840157652726"
      ]
     },
     "execution_count": 20,
     "metadata": {},
     "output_type": "execute_result"
    }
   ],
   "source": [
    "#Lets see what percntage of our data is duplicated \n",
    "4197/len(call_data)"
   ]
  },
  {
   "cell_type": "markdown",
   "metadata": {},
   "source": [
    "9 percent of the data is duplicated. We will now drop these dupicated rows. "
   ]
  },
  {
   "cell_type": "code",
   "execution_count": 21,
   "metadata": {},
   "outputs": [],
   "source": [
    "#mark duplicated rows as True except for the first occurence\n",
    "call_data.loc[call_data.duplicated(keep='first'),:]\n",
    "#drop duplicates:\n",
    "call_data= call_data.drop_duplicates(keep='first')"
   ]
  },
  {
   "cell_type": "code",
   "execution_count": 22,
   "metadata": {},
   "outputs": [
    {
     "data": {
      "text/plain": [
       "user_id                0\n",
       "date                   0\n",
       "direction              0\n",
       "internal               0\n",
       "operator_id            0\n",
       "is_missed_call         0\n",
       "calls_count            0\n",
       "call_duration          0\n",
       "total_call_duration    0\n",
       "dtype: int64"
      ]
     },
     "execution_count": 22,
     "metadata": {},
     "output_type": "execute_result"
    }
   ],
   "source": [
    "#and lets ensure we no longer have duplicated data \n",
    "call_data.loc[call_data.duplicated(),:].count()"
   ]
  },
  {
   "cell_type": "markdown",
   "metadata": {},
   "source": [
    "#### 2.4. Adding date columns to the call data <a class=\"anchor\" id=\"addidng_date\"></a>"
   ]
  },
  {
   "cell_type": "code",
   "execution_count": 23,
   "metadata": {},
   "outputs": [],
   "source": [
    "call_data['month']=pd.DatetimeIndex(call_data['date']).month\n",
    "call_data['day']=pd.DatetimeIndex(call_data['date']).day\n",
    "call_data['call_waiting_time']=call_data['total_call_duration']-call_data['call_duration']"
   ]
  },
  {
   "cell_type": "markdown",
   "metadata": {},
   "source": [
    "#### 2.5. dealing with anomolies in the data <a class=\"anchor\" id=\"anomolies\"></a>"
   ]
  },
  {
   "cell_type": "code",
   "execution_count": 24,
   "metadata": {},
   "outputs": [
    {
     "data": {
      "text/html": [
       "<div>\n",
       "<style scoped>\n",
       "    .dataframe tbody tr th:only-of-type {\n",
       "        vertical-align: middle;\n",
       "    }\n",
       "\n",
       "    .dataframe tbody tr th {\n",
       "        vertical-align: top;\n",
       "    }\n",
       "\n",
       "    .dataframe thead th {\n",
       "        text-align: right;\n",
       "    }\n",
       "</style>\n",
       "<table border=\"1\" class=\"dataframe\">\n",
       "  <thead>\n",
       "    <tr style=\"text-align: right;\">\n",
       "      <th></th>\n",
       "      <th>user_id</th>\n",
       "      <th>date</th>\n",
       "      <th>direction</th>\n",
       "      <th>internal</th>\n",
       "      <th>operator_id</th>\n",
       "      <th>is_missed_call</th>\n",
       "      <th>calls_count</th>\n",
       "      <th>call_duration</th>\n",
       "      <th>total_call_duration</th>\n",
       "      <th>month</th>\n",
       "      <th>day</th>\n",
       "      <th>call_waiting_time</th>\n",
       "    </tr>\n",
       "  </thead>\n",
       "  <tbody>\n",
       "    <tr>\n",
       "      <td>1606</td>\n",
       "      <td>166405</td>\n",
       "      <td>2019-11-19 00:00:00+03:00</td>\n",
       "      <td>in</td>\n",
       "      <td>False</td>\n",
       "      <td>939478</td>\n",
       "      <td>True</td>\n",
       "      <td>1</td>\n",
       "      <td>165</td>\n",
       "      <td>173</td>\n",
       "      <td>11</td>\n",
       "      <td>19</td>\n",
       "      <td>8</td>\n",
       "    </tr>\n",
       "    <tr>\n",
       "      <td>2283</td>\n",
       "      <td>166407</td>\n",
       "      <td>2019-09-23 00:00:00+03:00</td>\n",
       "      <td>in</td>\n",
       "      <td>False</td>\n",
       "      <td>888534</td>\n",
       "      <td>True</td>\n",
       "      <td>1</td>\n",
       "      <td>133</td>\n",
       "      <td>156</td>\n",
       "      <td>9</td>\n",
       "      <td>23</td>\n",
       "      <td>23</td>\n",
       "    </tr>\n",
       "    <tr>\n",
       "      <td>2956</td>\n",
       "      <td>166485</td>\n",
       "      <td>2019-09-09 00:00:00+03:00</td>\n",
       "      <td>in</td>\n",
       "      <td>False</td>\n",
       "      <td>887276</td>\n",
       "      <td>True</td>\n",
       "      <td>1</td>\n",
       "      <td>31</td>\n",
       "      <td>44</td>\n",
       "      <td>9</td>\n",
       "      <td>9</td>\n",
       "      <td>13</td>\n",
       "    </tr>\n",
       "    <tr>\n",
       "      <td>3376</td>\n",
       "      <td>166485</td>\n",
       "      <td>2019-10-31 00:00:00+03:00</td>\n",
       "      <td>in</td>\n",
       "      <td>False</td>\n",
       "      <td>887276</td>\n",
       "      <td>True</td>\n",
       "      <td>1</td>\n",
       "      <td>79</td>\n",
       "      <td>123</td>\n",
       "      <td>10</td>\n",
       "      <td>31</td>\n",
       "      <td>44</td>\n",
       "    </tr>\n",
       "    <tr>\n",
       "      <td>3975</td>\n",
       "      <td>166503</td>\n",
       "      <td>2019-08-12 00:00:00+03:00</td>\n",
       "      <td>in</td>\n",
       "      <td>True</td>\n",
       "      <td>884408</td>\n",
       "      <td>True</td>\n",
       "      <td>1</td>\n",
       "      <td>38</td>\n",
       "      <td>69</td>\n",
       "      <td>8</td>\n",
       "      <td>12</td>\n",
       "      <td>31</td>\n",
       "    </tr>\n",
       "    <tr>\n",
       "      <td>...</td>\n",
       "      <td>...</td>\n",
       "      <td>...</td>\n",
       "      <td>...</td>\n",
       "      <td>...</td>\n",
       "      <td>...</td>\n",
       "      <td>...</td>\n",
       "      <td>...</td>\n",
       "      <td>...</td>\n",
       "      <td>...</td>\n",
       "      <td>...</td>\n",
       "      <td>...</td>\n",
       "      <td>...</td>\n",
       "    </tr>\n",
       "    <tr>\n",
       "      <td>51488</td>\n",
       "      <td>168307</td>\n",
       "      <td>2019-10-30 00:00:00+03:00</td>\n",
       "      <td>in</td>\n",
       "      <td>False</td>\n",
       "      <td>945052</td>\n",
       "      <td>True</td>\n",
       "      <td>2</td>\n",
       "      <td>56</td>\n",
       "      <td>70</td>\n",
       "      <td>10</td>\n",
       "      <td>30</td>\n",
       "      <td>14</td>\n",
       "    </tr>\n",
       "    <tr>\n",
       "      <td>51577</td>\n",
       "      <td>168336</td>\n",
       "      <td>2019-10-30 00:00:00+03:00</td>\n",
       "      <td>in</td>\n",
       "      <td>False</td>\n",
       "      <td>948756</td>\n",
       "      <td>True</td>\n",
       "      <td>1</td>\n",
       "      <td>50</td>\n",
       "      <td>58</td>\n",
       "      <td>10</td>\n",
       "      <td>30</td>\n",
       "      <td>8</td>\n",
       "    </tr>\n",
       "    <tr>\n",
       "      <td>51664</td>\n",
       "      <td>168336</td>\n",
       "      <td>2019-11-12 00:00:00+03:00</td>\n",
       "      <td>in</td>\n",
       "      <td>False</td>\n",
       "      <td>947304</td>\n",
       "      <td>True</td>\n",
       "      <td>1</td>\n",
       "      <td>69</td>\n",
       "      <td>72</td>\n",
       "      <td>11</td>\n",
       "      <td>12</td>\n",
       "      <td>3</td>\n",
       "    </tr>\n",
       "    <tr>\n",
       "      <td>51693</td>\n",
       "      <td>168336</td>\n",
       "      <td>2019-11-15 00:00:00+03:00</td>\n",
       "      <td>in</td>\n",
       "      <td>False</td>\n",
       "      <td>947304</td>\n",
       "      <td>True</td>\n",
       "      <td>1</td>\n",
       "      <td>46</td>\n",
       "      <td>49</td>\n",
       "      <td>11</td>\n",
       "      <td>15</td>\n",
       "      <td>3</td>\n",
       "    </tr>\n",
       "    <tr>\n",
       "      <td>51853</td>\n",
       "      <td>168336</td>\n",
       "      <td>2019-11-27 00:00:00+03:00</td>\n",
       "      <td>in</td>\n",
       "      <td>False</td>\n",
       "      <td>958416</td>\n",
       "      <td>True</td>\n",
       "      <td>1</td>\n",
       "      <td>40</td>\n",
       "      <td>65</td>\n",
       "      <td>11</td>\n",
       "      <td>27</td>\n",
       "      <td>25</td>\n",
       "    </tr>\n",
       "  </tbody>\n",
       "</table>\n",
       "<p>180 rows × 12 columns</p>\n",
       "</div>"
      ],
      "text/plain": [
       "       user_id                      date direction  internal  operator_id  \\\n",
       "1606    166405 2019-11-19 00:00:00+03:00        in     False       939478   \n",
       "2283    166407 2019-09-23 00:00:00+03:00        in     False       888534   \n",
       "2956    166485 2019-09-09 00:00:00+03:00        in     False       887276   \n",
       "3376    166485 2019-10-31 00:00:00+03:00        in     False       887276   \n",
       "3975    166503 2019-08-12 00:00:00+03:00        in      True       884408   \n",
       "...        ...                       ...       ...       ...          ...   \n",
       "51488   168307 2019-10-30 00:00:00+03:00        in     False       945052   \n",
       "51577   168336 2019-10-30 00:00:00+03:00        in     False       948756   \n",
       "51664   168336 2019-11-12 00:00:00+03:00        in     False       947304   \n",
       "51693   168336 2019-11-15 00:00:00+03:00        in     False       947304   \n",
       "51853   168336 2019-11-27 00:00:00+03:00        in     False       958416   \n",
       "\n",
       "       is_missed_call  calls_count  call_duration  total_call_duration  month  \\\n",
       "1606             True            1            165                  173     11   \n",
       "2283             True            1            133                  156      9   \n",
       "2956             True            1             31                   44      9   \n",
       "3376             True            1             79                  123     10   \n",
       "3975             True            1             38                   69      8   \n",
       "...               ...          ...            ...                  ...    ...   \n",
       "51488            True            2             56                   70     10   \n",
       "51577            True            1             50                   58     10   \n",
       "51664            True            1             69                   72     11   \n",
       "51693            True            1             46                   49     11   \n",
       "51853            True            1             40                   65     11   \n",
       "\n",
       "       day  call_waiting_time  \n",
       "1606    19                  8  \n",
       "2283    23                 23  \n",
       "2956     9                 13  \n",
       "3376    31                 44  \n",
       "3975    12                 31  \n",
       "...    ...                ...  \n",
       "51488   30                 14  \n",
       "51577   30                  8  \n",
       "51664   12                  3  \n",
       "51693   15                  3  \n",
       "51853   27                 25  \n",
       "\n",
       "[180 rows x 12 columns]"
      ]
     },
     "execution_count": 24,
     "metadata": {},
     "output_type": "execute_result"
    }
   ],
   "source": [
    "#Lets see if we have any missed calls with call duration more the 0, as a missed call should not have any time on it\n",
    "currupt_data=call_data.loc[(call_data['is_missed_call']==True) & (call_data['call_duration']>5)]\n",
    "currupt_data"
   ]
  },
  {
   "cell_type": "markdown",
   "metadata": {},
   "source": [
    "we can see that we have 180 entries whereby the missed call is inciated True, however there is a recorded call time.Meaning these should be indicated False as they are not missed calls.  "
   ]
  },
  {
   "cell_type": "code",
   "execution_count": 25,
   "metadata": {},
   "outputs": [],
   "source": [
    "#lets change the status for these from True to False\n",
    "call_data.loc[(call_data['is_missed_call']==True) & (call_data['call_duration']>5), \"is_missed_call\"]=False"
   ]
  },
  {
   "cell_type": "code",
   "execution_count": 26,
   "metadata": {},
   "outputs": [
    {
     "data": {
      "text/html": [
       "<div>\n",
       "<style scoped>\n",
       "    .dataframe tbody tr th:only-of-type {\n",
       "        vertical-align: middle;\n",
       "    }\n",
       "\n",
       "    .dataframe tbody tr th {\n",
       "        vertical-align: top;\n",
       "    }\n",
       "\n",
       "    .dataframe thead th {\n",
       "        text-align: right;\n",
       "    }\n",
       "</style>\n",
       "<table border=\"1\" class=\"dataframe\">\n",
       "  <thead>\n",
       "    <tr style=\"text-align: right;\">\n",
       "      <th></th>\n",
       "      <th>user_id</th>\n",
       "      <th>date</th>\n",
       "      <th>direction</th>\n",
       "      <th>internal</th>\n",
       "      <th>operator_id</th>\n",
       "      <th>is_missed_call</th>\n",
       "      <th>calls_count</th>\n",
       "      <th>call_duration</th>\n",
       "      <th>total_call_duration</th>\n",
       "      <th>month</th>\n",
       "      <th>day</th>\n",
       "      <th>call_waiting_time</th>\n",
       "    </tr>\n",
       "  </thead>\n",
       "  <tbody>\n",
       "  </tbody>\n",
       "</table>\n",
       "</div>"
      ],
      "text/plain": [
       "Empty DataFrame\n",
       "Columns: [user_id, date, direction, internal, operator_id, is_missed_call, calls_count, call_duration, total_call_duration, month, day, call_waiting_time]\n",
       "Index: []"
      ]
     },
     "execution_count": 26,
     "metadata": {},
     "output_type": "execute_result"
    }
   ],
   "source": [
    "#lets check changes were applied\n",
    "currupt_data_check=call_data.loc[(call_data['is_missed_call']==True) & (call_data['call_duration']>5)]\n",
    "currupt_data_check"
   ]
  },
  {
   "cell_type": "markdown",
   "metadata": {},
   "source": [
    "#### 2.6. Data preprocessing brief summary <a class=\"anchor\" id=\"brief_summary\"></a>"
   ]
  },
  {
   "cell_type": "markdown",
   "metadata": {},
   "source": [
    "- Deleated missing values for call_data, internal (117 values)\n",
    "- Deleated missing values for call_data, operator_id (8172 values)\n",
    "- 15 percent of the call_data was deletated in total\n",
    "- Data type was canges where neccessary\n",
    "- Duplicated data was deleated for call_data, a total of 9 percent of the data. \n",
    "- Currupt data for 'is missed call' was fixed, whereby calls with call duration greater than 0 were change to False. "
   ]
  },
  {
   "cell_type": "markdown",
   "metadata": {},
   "source": [
    "<div class=\"alert alert-success\" role=\"alert\">\n",
    "  All is fine in this part:)\n",
    "</div>"
   ]
  },
  {
   "cell_type": "markdown",
   "metadata": {},
   "source": [
    "### 3. Exploratory data analysis (EDA) <a class=\"anchor\" id=\"eda\"></a>"
   ]
  },
  {
   "cell_type": "markdown",
   "metadata": {},
   "source": [
    "#### 3.1. Mean values and descriptives <a class=\"anchor\" id=\"mean_values\"></a>"
   ]
  },
  {
   "cell_type": "code",
   "execution_count": 27,
   "metadata": {},
   "outputs": [
    {
     "data": {
      "text/html": [
       "<div>\n",
       "<style scoped>\n",
       "    .dataframe tbody tr th:only-of-type {\n",
       "        vertical-align: middle;\n",
       "    }\n",
       "\n",
       "    .dataframe tbody tr th {\n",
       "        vertical-align: top;\n",
       "    }\n",
       "\n",
       "    .dataframe thead th {\n",
       "        text-align: right;\n",
       "    }\n",
       "</style>\n",
       "<table border=\"1\" class=\"dataframe\">\n",
       "  <thead>\n",
       "    <tr style=\"text-align: right;\">\n",
       "      <th></th>\n",
       "      <th>user_id</th>\n",
       "      <th>operator_id</th>\n",
       "      <th>calls_count</th>\n",
       "      <th>call_duration</th>\n",
       "      <th>total_call_duration</th>\n",
       "      <th>month</th>\n",
       "      <th>day</th>\n",
       "      <th>call_waiting_time</th>\n",
       "    </tr>\n",
       "  </thead>\n",
       "  <tbody>\n",
       "    <tr>\n",
       "      <td>count</td>\n",
       "      <td>41491.000000</td>\n",
       "      <td>41491.000000</td>\n",
       "      <td>41491.000000</td>\n",
       "      <td>41491.000000</td>\n",
       "      <td>41491.000000</td>\n",
       "      <td>41491.000000</td>\n",
       "      <td>41491.000000</td>\n",
       "      <td>41491.000000</td>\n",
       "    </tr>\n",
       "    <tr>\n",
       "      <td>mean</td>\n",
       "      <td>167301.113543</td>\n",
       "      <td>916516.771155</td>\n",
       "      <td>16.921381</td>\n",
       "      <td>1010.940011</td>\n",
       "      <td>1323.153238</td>\n",
       "      <td>10.210961</td>\n",
       "      <td>16.923333</td>\n",
       "      <td>312.213227</td>\n",
       "    </tr>\n",
       "    <tr>\n",
       "      <td>std</td>\n",
       "      <td>600.513986</td>\n",
       "      <td>21234.081589</td>\n",
       "      <td>59.786187</td>\n",
       "      <td>4066.666485</td>\n",
       "      <td>4788.953155</td>\n",
       "      <td>0.844366</td>\n",
       "      <td>8.469598</td>\n",
       "      <td>1176.102940</td>\n",
       "    </tr>\n",
       "    <tr>\n",
       "      <td>min</td>\n",
       "      <td>166377.000000</td>\n",
       "      <td>879896.000000</td>\n",
       "      <td>1.000000</td>\n",
       "      <td>0.000000</td>\n",
       "      <td>0.000000</td>\n",
       "      <td>8.000000</td>\n",
       "      <td>1.000000</td>\n",
       "      <td>0.000000</td>\n",
       "    </tr>\n",
       "    <tr>\n",
       "      <td>25%</td>\n",
       "      <td>166782.000000</td>\n",
       "      <td>900790.000000</td>\n",
       "      <td>1.000000</td>\n",
       "      <td>0.000000</td>\n",
       "      <td>67.000000</td>\n",
       "      <td>10.000000</td>\n",
       "      <td>10.000000</td>\n",
       "      <td>19.000000</td>\n",
       "    </tr>\n",
       "    <tr>\n",
       "      <td>50%</td>\n",
       "      <td>167175.000000</td>\n",
       "      <td>913938.000000</td>\n",
       "      <td>4.000000</td>\n",
       "      <td>106.000000</td>\n",
       "      <td>289.000000</td>\n",
       "      <td>10.000000</td>\n",
       "      <td>18.000000</td>\n",
       "      <td>60.000000</td>\n",
       "    </tr>\n",
       "    <tr>\n",
       "      <td>75%</td>\n",
       "      <td>167827.000000</td>\n",
       "      <td>937708.000000</td>\n",
       "      <td>14.000000</td>\n",
       "      <td>772.000000</td>\n",
       "      <td>1107.000000</td>\n",
       "      <td>11.000000</td>\n",
       "      <td>24.000000</td>\n",
       "      <td>219.000000</td>\n",
       "    </tr>\n",
       "    <tr>\n",
       "      <td>max</td>\n",
       "      <td>168606.000000</td>\n",
       "      <td>973286.000000</td>\n",
       "      <td>4817.000000</td>\n",
       "      <td>144395.000000</td>\n",
       "      <td>166155.000000</td>\n",
       "      <td>11.000000</td>\n",
       "      <td>31.000000</td>\n",
       "      <td>46474.000000</td>\n",
       "    </tr>\n",
       "  </tbody>\n",
       "</table>\n",
       "</div>"
      ],
      "text/plain": [
       "             user_id    operator_id   calls_count  call_duration  \\\n",
       "count   41491.000000   41491.000000  41491.000000   41491.000000   \n",
       "mean   167301.113543  916516.771155     16.921381    1010.940011   \n",
       "std       600.513986   21234.081589     59.786187    4066.666485   \n",
       "min    166377.000000  879896.000000      1.000000       0.000000   \n",
       "25%    166782.000000  900790.000000      1.000000       0.000000   \n",
       "50%    167175.000000  913938.000000      4.000000     106.000000   \n",
       "75%    167827.000000  937708.000000     14.000000     772.000000   \n",
       "max    168606.000000  973286.000000   4817.000000  144395.000000   \n",
       "\n",
       "       total_call_duration         month           day  call_waiting_time  \n",
       "count         41491.000000  41491.000000  41491.000000       41491.000000  \n",
       "mean           1323.153238     10.210961     16.923333         312.213227  \n",
       "std            4788.953155      0.844366      8.469598        1176.102940  \n",
       "min               0.000000      8.000000      1.000000           0.000000  \n",
       "25%              67.000000     10.000000     10.000000          19.000000  \n",
       "50%             289.000000     10.000000     18.000000          60.000000  \n",
       "75%            1107.000000     11.000000     24.000000         219.000000  \n",
       "max          166155.000000     11.000000     31.000000       46474.000000  "
      ]
     },
     "execution_count": 27,
     "metadata": {},
     "output_type": "execute_result"
    }
   ],
   "source": [
    "#letd firts look at the dexcriptive statatistics of our data\n",
    "call_data.describe()"
   ]
  },
  {
   "cell_type": "markdown",
   "metadata": {},
   "source": [
    "- Our mean call duration is 1010 seconds, which is 16.8 minutes. It also apears that we have outliers here, as the 75% percentile of the call duration is 772 seconds, quivelent to 12.8 minutes, but we have a max value of 144395 seconds which is 2406 minutes- surely this seems strange. \n",
    "- Our total call duration which is our call duration including the waiting time has a mean value of 1323, which is 22 minutes, and here too, we can see opossible outliers as our max values id 166255, which is 2769 minutes, way too long for a phone call, even if this does have the waiting time added. \n",
    "- We can see that our data was collected over 4 months,with the min month being Augost, and max month  November. \n",
    "- Our call waiting tme also appears to have outliers wih our max value being 46474, so 774 minutes. This makes sense as we got this figure from deducting our call duration forom total call duration.  \n",
    "- It seems that we haveour call count on average is 16.9 and that our 75th perrcentile have around 14 calls. So th max value here of 4817 also seems extremely strange, and appears to be an extreme outlier.  "
   ]
  },
  {
   "cell_type": "code",
   "execution_count": 28,
   "metadata": {},
   "outputs": [
    {
     "data": {
      "text/plain": [
       "11    18620\n",
       "10    14474\n",
       "9      6927\n",
       "8      1470\n",
       "Name: month, dtype: int64"
      ]
     },
     "execution_count": 28,
     "metadata": {},
     "output_type": "execute_result"
    }
   ],
   "source": [
    "#lets see how many enteries we have per each month of our collected data\n",
    "call_data.month.value_counts()"
   ]
  },
  {
   "cell_type": "code",
   "execution_count": 29,
   "metadata": {},
   "outputs": [
    {
     "name": "stdout",
     "output_type": "stream",
     "text": [
      "Number of operators: 1092\n"
     ]
    }
   ],
   "source": [
    "#Lets see how many unique operators we have\n",
    "total_operators=call_data.operator_id.nunique()\n",
    "print('Number of operators:', total_operators)"
   ]
  },
  {
   "cell_type": "code",
   "execution_count": 30,
   "metadata": {},
   "outputs": [
    {
     "data": {
      "text/plain": [
       "False    27562\n",
       "True     13929\n",
       "Name: is_missed_call, dtype: int64"
      ]
     },
     "execution_count": 30,
     "metadata": {},
     "output_type": "execute_result"
    }
   ],
   "source": [
    "#lets see how many missed calls we have vs calls that arn't considered to be missed \n",
    "call_data.is_missed_call.value_counts()"
   ]
  },
  {
   "cell_type": "code",
   "execution_count": 31,
   "metadata": {},
   "outputs": [
    {
     "data": {
      "text/plain": [
       "out    28813\n",
       "in     12678\n",
       "Name: direction, dtype: int64"
      ]
     },
     "execution_count": 31,
     "metadata": {},
     "output_type": "execute_result"
    }
   ],
   "source": [
    "#lets see how many incoming and outcoming calls we have\n",
    "call_data.direction.value_counts()"
   ]
  },
  {
   "cell_type": "code",
   "execution_count": 32,
   "metadata": {},
   "outputs": [
    {
     "data": {
      "image/png": "[encoded data removed]",
      "text/plain": [
       "<Figure size 432x288 with 2 Axes>"
      ]
     },
     "metadata": {
      "needs_background": "light"
     },
     "output_type": "display_data"
    }
   ],
   "source": [
    "#lets see whats going on with our call duration as it seems that we have outliers here.\n",
    "plt.subplot(1, 2, 1)\n",
    "call_data.call_duration.hist(bins=100, range=(0, 4000))\n",
    "plt.title('call duration distribution')\n",
    "plt.xlabel('call duration in seconds')\n",
    "plt.ylabel('frequency')\n",
    "\n",
    "plt.subplot(1, 2, 2)\n",
    "plt.boxplot(call_data['call_duration'])\n",
    "plt.title('call duration boxplot')\n",
    "plt.ylabel('call duration')\n",
    "plt.xlabel('frequency')\n",
    "plt.ylim(0, 3000)\n",
    "plt.show()"
   ]
  },
  {
   "cell_type": "markdown",
   "metadata": {},
   "source": [
    "- It appears that anything above 2000 is considered to be an outlier.\n",
    "- Lets check if the distribution of data changes based on incoming or outgoing call."
   ]
  },
  {
   "cell_type": "code",
   "execution_count": 33,
   "metadata": {},
   "outputs": [
    {
     "data": {
      "image/png": "[encoded data removed]",
      "text/plain": [
       "<Figure size 432x288 with 2 Axes>"
      ]
     },
     "metadata": {
      "needs_background": "light"
     },
     "output_type": "display_data"
    }
   ],
   "source": [
    "#lets see whats going on with our call count as it seems that we have outliers here.\n",
    "plt.subplot(1, 2, 1)\n",
    "call_data.calls_count.hist(bins=100, range=(0, 200))\n",
    "plt.title('call count distribution')\n",
    "plt.xlabel('call count')\n",
    "plt.ylabel('frequency')\n",
    "\n",
    "plt.subplot(1, 2, 2)\n",
    "plt.boxplot(call_data['calls_count'])\n",
    "plt.title('call count boxplot')\n",
    "plt.ylabel('call count')\n",
    "plt.xlabel('frequency')\n",
    "plt.ylim(0, 40)\n",
    "plt.show()"
   ]
  },
  {
   "cell_type": "markdown",
   "metadata": {},
   "source": [
    "- It appears that anything above 33 calls is considered to be an outlier"
   ]
  },
  {
   "cell_type": "markdown",
   "metadata": {},
   "source": [
    "#### 3.2. Mean feature values in incoming vs outgoing calls <a class=\"anchor\" id=\"mean_features_direction\"></a>"
   ]
  },
  {
   "cell_type": "code",
   "execution_count": 34,
   "metadata": {},
   "outputs": [
    {
     "data": {
      "text/plain": [
       "out    28813\n",
       "in     12678\n",
       "Name: direction, dtype: int64"
      ]
     },
     "execution_count": 34,
     "metadata": {},
     "output_type": "execute_result"
    }
   ],
   "source": [
    "#lets first see how many inming vs outgoing calls we have\n",
    "call_data.direction.value_counts()"
   ]
  },
  {
   "cell_type": "code",
   "execution_count": 35,
   "metadata": {},
   "outputs": [],
   "source": [
    "#lets divide the data into incoming and outgoing calls \n",
    "incoming_calls = call_data.query('direction == \"in\"')\n",
    "outgoing_calls = call_data.query('direction == \"out\"')"
   ]
  },
  {
   "cell_type": "code",
   "execution_count": 36,
   "metadata": {},
   "outputs": [
    {
     "data": {
      "image/png": "[encoded data removed]",
      "text/plain": [
       "<Figure size 432x288 with 2 Axes>"
      ]
     },
     "metadata": {
      "needs_background": "light"
     },
     "output_type": "display_data"
    }
   ],
   "source": [
    "# now lets looks at the dustibution of call duration for incoming calls\n",
    "plt.subplot(1, 2, 1)\n",
    "incoming_calls.call_duration.hist(bins=100, range=(0, 5000))\n",
    "plt.title('incoming call duration distribution')\n",
    "plt.xlabel('call duration in seconds')\n",
    "plt.ylabel('frequency')\n",
    "\n",
    "plt.subplot(1, 2, 2)\n",
    "plt.boxplot(incoming_calls['call_duration'])\n",
    "plt.title('incoming call duration boxplot')\n",
    "plt.ylabel('call duration')\n",
    "plt.ylabel('frequency')\n",
    "plt.ylim(0, 3000)\n",
    "plt.show()"
   ]
  },
  {
   "cell_type": "code",
   "execution_count": 38,
   "metadata": {},
   "outputs": [
    {
     "data": {
      "image/png": "[encoded data removed]",
      "text/plain": [
       "<Figure size 432x288 with 2 Axes>"
      ]
     },
     "metadata": {
      "needs_background": "light"
     },
     "output_type": "display_data"
    }
   ],
   "source": [
    "#and lets do the same with our outgoing calls\n",
    "plt.subplot(1, 2, 1)\n",
    "outgoing_calls.call_duration.hist(bins=100, range=(0, 5000))\n",
    "plt.title('incoming call duration distribution')\n",
    "plt.xlabel('incoming call duration in seconds')\n",
    "plt.ylabel('frequency')\n",
    "\n",
    "plt.subplot(1, 2, 2)\n",
    "plt.boxplot(outgoing_calls['call_duration'])\n",
    "plt.title('outgoing call duration boxplot')\n",
    "plt.ylabel('call duration')\n",
    "plt.ylabel('frequency')\n",
    "plt.ylim(0, 3000)\n",
    "plt.show()"
   ]
  },
  {
   "cell_type": "markdown",
   "metadata": {},
   "source": [
    "- For our incoming calls, we can see that call durations above 2000 seconds are considered to be outliers\n",
    "- For our outgoing calls, we can see that call durations above 1800 seconds are considered to be outliers"
   ]
  },
  {
   "cell_type": "code",
   "execution_count": 39,
   "metadata": {},
   "outputs": [
    {
     "data": {
      "image/png": "[encoded data removed]",
      "text/plain": [
       "<Figure size 432x288 with 2 Axes>"
      ]
     },
     "metadata": {
      "needs_background": "light"
     },
     "output_type": "display_data"
    }
   ],
   "source": [
    "# now lets looks at the dustibution of call count for incoming calls\n",
    "plt.subplot(1, 2, 1)\n",
    "incoming_calls.calls_count.hist(bins=100, range=(0, 60))\n",
    "plt.title('incoming call count distribution')\n",
    "plt.xlabel('call count')\n",
    "plt.ylabel('frequency')\n",
    "\n",
    "plt.subplot(1, 2, 2)\n",
    "plt.boxplot(incoming_calls['calls_count'])\n",
    "plt.title('incoming call count boxplot')\n",
    "plt.ylabel('call count')\n",
    "plt.xlabel('frequency')\n",
    "plt.ylim(0, 20)\n",
    "plt.show()"
   ]
  },
  {
   "cell_type": "code",
   "execution_count": 40,
   "metadata": {},
   "outputs": [
    {
     "data": {
      "image/png": "[encoded data removed]",
      "text/plain": [
       "<Figure size 432x288 with 2 Axes>"
      ]
     },
     "metadata": {
      "needs_background": "light"
     },
     "output_type": "display_data"
    }
   ],
   "source": [
    "# now lets looks at the dustibution of call count for outgoing calls\n",
    "plt.subplot(1, 2, 1)\n",
    "outgoing_calls.calls_count.hist(bins=100, range=(0, 100))\n",
    "plt.title('outgoing call count distribution')\n",
    "plt.xlabel('call count')\n",
    "plt.ylabel('frequency')\n",
    "\n",
    "plt.subplot(1, 2, 2)\n",
    "plt.boxplot(outgoing_calls['calls_count'])\n",
    "plt.title('outgoing call count boxplot')\n",
    "plt.ylabel('call count')\n",
    "plt.xlabel('frequency')\n",
    "plt.ylim(0, 50)\n",
    "plt.show()"
   ]
  },
  {
   "cell_type": "markdown",
   "metadata": {},
   "source": [
    "- For our incoming calls, we can see that we have a very small call count, and that we have many outliers, we would say anything above a call count of 16.\n",
    "- For our outgoing calls, we can see that we have a very small call count, and that we have many outliers, we would say anything above a call count of 43."
   ]
  },
  {
   "cell_type": "markdown",
   "metadata": {},
   "source": [
    "#### 3.3. Mean feature values for internal vs external calls <a class=\"anchor\" id=\"mean_features_intrnal\"></a>"
   ]
  },
  {
   "cell_type": "code",
   "execution_count": 41,
   "metadata": {},
   "outputs": [
    {
     "data": {
      "text/plain": [
       "False    36161\n",
       "True      5330\n",
       "Name: internal, dtype: int64"
      ]
     },
     "execution_count": 41,
     "metadata": {},
     "output_type": "execute_result"
    }
   ],
   "source": [
    "#lets first see how many internal calls we have\n",
    "call_data.internal.value_counts()"
   ]
  },
  {
   "cell_type": "code",
   "execution_count": 42,
   "metadata": {},
   "outputs": [
    {
     "data": {
      "text/plain": [
       "0.128461594080644"
      ]
     },
     "execution_count": 42,
     "metadata": {},
     "output_type": "execute_result"
    }
   ],
   "source": [
    "#lets see what percentage of the data this is \n",
    "5330/len(call_data)"
   ]
  },
  {
   "cell_type": "markdown",
   "metadata": {},
   "source": [
    "only 5330 calls,making up 12 percent of the calls in the data, are internal "
   ]
  },
  {
   "cell_type": "code",
   "execution_count": 43,
   "metadata": {},
   "outputs": [],
   "source": [
    "#lets now divide the data into internal and external calls \n",
    "internal_calls = call_data.query('internal == True')\n",
    "external_calls = call_data.query('internal == False')"
   ]
  },
  {
   "cell_type": "code",
   "execution_count": 44,
   "metadata": {},
   "outputs": [
    {
     "data": {
      "image/png": "[encoded data removed]",
      "text/plain": [
       "<Figure size 432x288 with 2 Axes>"
      ]
     },
     "metadata": {
      "needs_background": "light"
     },
     "output_type": "display_data"
    }
   ],
   "source": [
    "# now lets looks at the dustibution of call duration for internal calls, and understand if we have outliers\n",
    "plt.subplot(1, 2, 1)\n",
    "internal_calls.call_duration.hist(bins=100, range=(0, 1000))\n",
    "plt.title('internal call duration distribution')\n",
    "plt.xlabel('internal call duration in seconds')\n",
    "plt.ylabel('frequency')\n",
    "\n",
    "plt.subplot(1, 2, 2)\n",
    "plt.boxplot(internal_calls['call_duration'])\n",
    "plt.title('internal call duration boxplot')\n",
    "plt.ylabel('internal call duration')\n",
    "plt.ylabel('frequency')\n",
    "plt.ylim(0, 280)\n",
    "plt.show()"
   ]
  },
  {
   "cell_type": "code",
   "execution_count": 45,
   "metadata": {},
   "outputs": [
    {
     "data": {
      "image/png": "[encoded data removed]",
      "text/plain": [
       "<Figure size 432x288 with 2 Axes>"
      ]
     },
     "metadata": {
      "needs_background": "light"
     },
     "output_type": "display_data"
    }
   ],
   "source": [
    "# now lets looks at the dustibution of call duration for external calls, and understand if we have outliers\n",
    "plt.subplot(1, 2, 1)\n",
    "external_calls.call_duration.hist(bins=100, range=(0, 2500))\n",
    "plt.title('external call duration distribution')\n",
    "plt.xlabel('external call duration in seconds')\n",
    "plt.ylabel('frequency')\n",
    "\n",
    "plt.subplot(1, 2, 2)\n",
    "plt.boxplot(external_calls['call_duration'])\n",
    "plt.title('external call duration boxplot')\n",
    "plt.ylabel('external call duration')\n",
    "plt.ylabel('frequency')\n",
    "plt.ylim(0, 3000)\n",
    "plt.show()"
   ]
  },
  {
   "cell_type": "markdown",
   "metadata": {},
   "source": [
    "- it seems that majority of the calls for internall calls, have a duration of less than 250 seconds. Anythng abve this seems to be an outier \n",
    "- it seems that majority of the calls for external calls, have a duration of less than 2400 seconds. Anythng abve this seems to be an outier "
   ]
  },
  {
   "cell_type": "code",
   "execution_count": 46,
   "metadata": {},
   "outputs": [
    {
     "data": {
      "image/png": "[encoded data removed]",
      "text/plain": [
       "<Figure size 432x288 with 2 Axes>"
      ]
     },
     "metadata": {
      "needs_background": "light"
     },
     "output_type": "display_data"
    }
   ],
   "source": [
    "# now lets looks at the dustibution of call count for internal calls, and understand if we have outliers\n",
    "plt.subplot(1, 2, 1)\n",
    "internal_calls.calls_count.hist(bins=100, range=(0, 30))\n",
    "plt.title('internal call count distribution')\n",
    "plt.xlabel('internal call count in seconds')\n",
    "plt.ylabel('frequency')\n",
    "\n",
    "plt.subplot(1, 2, 2)\n",
    "plt.boxplot(internal_calls['calls_count'])\n",
    "plt.title('internal call count boxplot')\n",
    "plt.ylabel('internal call count')\n",
    "plt.ylabel('frequency')\n",
    "plt.ylim(0, 20)\n",
    "plt.show()"
   ]
  },
  {
   "cell_type": "code",
   "execution_count": 47,
   "metadata": {},
   "outputs": [
    {
     "data": {
      "image/png": "[encoded data removed]",
      "text/plain": [
       "<Figure size 432x288 with 2 Axes>"
      ]
     },
     "metadata": {
      "needs_background": "light"
     },
     "output_type": "display_data"
    }
   ],
   "source": [
    "# now lets looks at the dustibution of call count for external calls, and understand if we have outliers\n",
    "plt.subplot(1, 2, 1)\n",
    "external_calls.calls_count.hist(bins=100, range=(0, 50))\n",
    "plt.title('external call count distribution')\n",
    "plt.xlabel('external call count in seconds')\n",
    "plt.ylabel('frequency')\n",
    "\n",
    "plt.subplot(1, 2, 2)\n",
    "plt.boxplot(external_calls['calls_count'])\n",
    "plt.title('external call count boxplot')\n",
    "plt.ylabel('external call count')\n",
    "plt.ylabel('frequency')\n",
    "plt.ylim(0, 60)\n",
    "plt.show()"
   ]
  },
  {
   "cell_type": "markdown",
   "metadata": {},
   "source": [
    "- For our iternal calls, we can see that we have a very small call count, and that we have many outliers, we would say anything above a call count of 6.\n",
    "- For our external calls, we can see that we have a very small call count, and that we have many outliers, we would say anything above a call count of 38."
   ]
  },
  {
   "cell_type": "markdown",
   "metadata": {},
   "source": [
    "#### 3.4. Removing outliers <a class=\"anchor\" id=\"outliers\"></a>"
   ]
  },
  {
   "cell_type": "markdown",
   "metadata": {},
   "source": [
    "Lets calculat the percenage of outliers in the data before dropping them. "
   ]
  },
  {
   "cell_type": "code",
   "execution_count": 49,
   "metadata": {},
   "outputs": [
    {
     "name": "stdout",
     "output_type": "stream",
     "text": [
      "Outliers for incoming calls: 1212\n",
      "Outliers for outgoing calls: 4208\n"
     ]
    }
   ],
   "source": [
    "#lets see how many outliers we have in our data for call duration based on incoming and outgoing\n",
    "incoming_call_outliers=incoming_calls.query('call_duration > 2000')\n",
    "print('Outliers for incoming calls:', len(incoming_call_outliers))\n",
    "outgoing_calls_outliers=outgoing_calls.query('call_duration > 1800')\n",
    "print('Outliers for outgoing calls:', len(outgoing_calls_outliers))"
   ]
  },
  {
   "cell_type": "code",
   "execution_count": 50,
   "metadata": {},
   "outputs": [
    {
     "data": {
      "text/plain": [
       "0.13063073919645224"
      ]
     },
     "execution_count": 50,
     "metadata": {},
     "output_type": "execute_result"
    }
   ],
   "source": [
    "#Lets see what percentage our outliers are out of our total call data\n",
    "(len(incoming_call_outliers)+len(outgoing_calls_outliers))/ len(call_data)"
   ]
  },
  {
   "cell_type": "markdown",
   "metadata": {},
   "source": [
    "It appears that 13 percent of our call_data are ouliers. "
   ]
  },
  {
   "cell_type": "code",
   "execution_count": 51,
   "metadata": {},
   "outputs": [
    {
     "data": {
      "text/plain": [
       "36071"
      ]
     },
     "execution_count": 51,
     "metadata": {},
     "output_type": "execute_result"
    }
   ],
   "source": [
    "#lets drop these\n",
    "clean_call_data1= call_data.drop(call_data[(call_data.call_duration > 2000) & (call_data.direction == \"in\")].index)\n",
    "clean_call_data2= clean_call_data1.drop(clean_call_data1[(clean_call_data1.call_duration > 1800) & (clean_call_data1.direction == \"out\")].index)\n",
    "clean_call_data=clean_call_data2\n",
    "len(clean_call_data)"
   ]
  },
  {
   "cell_type": "code",
   "execution_count": 52,
   "metadata": {},
   "outputs": [
    {
     "name": "stdout",
     "output_type": "stream",
     "text": [
      "Outliers for incoming calls: 392\n",
      "Outliers for outgoing calls: 1509\n"
     ]
    }
   ],
   "source": [
    "#lets see how many outliers we have in our clan data for call count based on incoming and outgoing\n",
    "incoming_call_count_outliers=clean_call_data.query('direction == \"in\" and calls_count > 16')\n",
    "print('Outliers for incoming calls:', len(incoming_call_count_outliers))\n",
    "outgoing_calls_count_outliers=clean_call_data.query('direction == \"out\" and calls_count > 43')\n",
    "print('Outliers for outgoing calls:', len(outgoing_calls_count_outliers))"
   ]
  },
  {
   "cell_type": "code",
   "execution_count": 53,
   "metadata": {},
   "outputs": [
    {
     "data": {
      "text/plain": [
       "0.052701616256826816"
      ]
     },
     "execution_count": 53,
     "metadata": {},
     "output_type": "execute_result"
    }
   ],
   "source": [
    "#Lets see what percentage our outliers are out of our total clean call data\n",
    "(len(incoming_call_count_outliers)+len(outgoing_calls_count_outliers))/ len(clean_call_data)"
   ]
  },
  {
   "cell_type": "markdown",
   "metadata": {},
   "source": [
    "the percentage of outliers for call count in our clean data is 5%. lets drop these too. "
   ]
  },
  {
   "cell_type": "code",
   "execution_count": 54,
   "metadata": {},
   "outputs": [
    {
     "data": {
      "text/plain": [
       "34562"
      ]
     },
     "execution_count": 54,
     "metadata": {},
     "output_type": "execute_result"
    }
   ],
   "source": [
    "#lets drop these\n",
    "clean_call_data3= clean_call_data.drop(clean_call_data[(clean_call_data.calls_count > 16) & (clean_call_data.direction == \"in\")].index)\n",
    "clean_call_data4= clean_call_data.drop(clean_call_data[(clean_call_data.calls_count > 43) & (clean_call_data.direction == \"out\")].index)\n",
    "clean_call_data=clean_call_data4\n",
    "len(clean_call_data)"
   ]
  },
  {
   "cell_type": "markdown",
   "metadata": {},
   "source": [
    "#### 3.5. EDA Summary <a class=\"anchor\" id=\"eda_summary\"></a>"
   ]
  },
  {
   "cell_type": "markdown",
   "metadata": {},
   "source": [
    "- our data coveres a period of 4 months\n",
    "- our data has 1092 unique operators\n",
    "- our data consisted of 41491 enteries\n",
    "- our data had extreme outliers in the call duration column \n",
    "- we deleted outliers for extremely long call duration based on our analysis using histograms and boxplots, 13 percent of the data\n",
    "- we deleted outliers for extremely high call count based on our analysis using histograms and boxplots, 5 percent of the already cleaned data\n",
    "- our new clean data now exists of 34562 entereies"
   ]
  },
  {
   "cell_type": "markdown",
   "metadata": {},
   "source": [
    "<div class=\"alert alert-success\" role=\"alert\">\n",
    "  This part is also fine:)\n",
    "</div>"
   ]
  },
  {
   "cell_type": "markdown",
   "metadata": {},
   "source": [
    "<div class=\"alert alert-warning\" role=\"alert\">\n",
    "  But I see one possible code improvement. You plotted the same two graphs several times and duplicated the code by this. It's better to write a function to plot these graphs to avoid code duplication. \n",
    "</div>"
   ]
  },
  {
   "cell_type": "markdown",
   "metadata": {},
   "source": [
    "### 4. Analyis of the data  <a class=\"anchor\" id=\"anayze\"></a>"
   ]
  },
  {
   "cell_type": "markdown",
   "metadata": {},
   "source": [
    "#### 4.1. Number of calls per operator, on average and total <a class=\"anchor\" id=\"calls_operator\"></a>"
   ]
  },
  {
   "cell_type": "code",
   "execution_count": 55,
   "metadata": {},
   "outputs": [
    {
     "data": {
      "text/plain": [
       "1088"
      ]
     },
     "execution_count": 55,
     "metadata": {},
     "output_type": "execute_result"
    }
   ],
   "source": [
    "#lets first see how many operators we have in our clean data\n",
    "clean_call_data.operator_id.nunique()"
   ]
  },
  {
   "cell_type": "code",
   "execution_count": 56,
   "metadata": {},
   "outputs": [
    {
     "data": {
      "image/png": "[encoded data removed]",
      "text/plain": [
       "<Figure size 432x288 with 1 Axes>"
      ]
     },
     "metadata": {
      "needs_background": "light"
     },
     "output_type": "display_data"
    }
   ],
   "source": [
    "#lets calculate the total amount of calls per operator and look at the distribution of this\n",
    "calls_per_operator=clean_call_data.groupby('operator_id')['calls_count'].sum().reset_index()\n",
    "calls_per_operator.columns=['operator_id','call_count']\n",
    "calls_per_operator.hist('call_count',bins=100, range=(0,200))\n",
    "plt.title('call count per operator')\n",
    "plt.xlabel('call count')\n",
    "plt.ylabel('frequency');"
   ]
  },
  {
   "cell_type": "code",
   "execution_count": 57,
   "metadata": {},
   "outputs": [
    {
     "data": {
      "text/plain": [
       "count    1088.000000\n",
       "mean      194.121324\n",
       "std       338.180529\n",
       "min         1.000000\n",
       "25%         9.000000\n",
       "50%        48.000000\n",
       "75%       232.000000\n",
       "max      3247.000000\n",
       "Name: call_count, dtype: float64"
      ]
     },
     "execution_count": 57,
     "metadata": {},
     "output_type": "execute_result"
    }
   ],
   "source": [
    "calls_per_operator.call_count.describe()"
   ]
  },
  {
   "cell_type": "code",
   "execution_count": 58,
   "metadata": {},
   "outputs": [
    {
     "data": {
      "text/plain": [
       "0    1\n",
       "dtype: int64"
      ]
     },
     "execution_count": 58,
     "metadata": {},
     "output_type": "execute_result"
    }
   ],
   "source": [
    "#lets look at the mode as we seem to have a huge standard deviation from the mean\n",
    "calls_per_operator.call_count.mode()"
   ]
  },
  {
   "cell_type": "markdown",
   "metadata": {},
   "source": [
    "We can see that the mean call count is 194 per operator, using the mode, we know that majority of our calls count are 1. "
   ]
  },
  {
   "cell_type": "code",
   "execution_count": 59,
   "metadata": {},
   "outputs": [
    {
     "data": {
      "image/png": "[encoded data removed]",
      "text/plain": [
       "<Figure size 432x288 with 1 Axes>"
      ]
     },
     "metadata": {
      "needs_background": "light"
     },
     "output_type": "display_data"
    }
   ],
   "source": [
    "#lets calculate the average amount of calls per operator and look at the distribution of this\n",
    "avg_calls_per_operator=clean_call_data.groupby('operator_id')['calls_count'].mean().reset_index()\n",
    "avg_calls_per_operator.columns=['operator_id','avg_call_count']\n",
    "avg_calls_per_operator.hist('avg_call_count',bins=60, range=(0,60))\n",
    "plt.title('average call count per operator')\n",
    "plt.xlabel('averag call count')\n",
    "plt.ylabel('frequency');"
   ]
  },
  {
   "cell_type": "code",
   "execution_count": 60,
   "metadata": {},
   "outputs": [
    {
     "data": {
      "text/plain": [
       "count    1088.000000\n",
       "mean        5.584855\n",
       "std         6.656995\n",
       "min         1.000000\n",
       "25%         1.595161\n",
       "50%         2.738844\n",
       "75%         6.691556\n",
       "max        42.000000\n",
       "Name: avg_call_count, dtype: float64"
      ]
     },
     "execution_count": 60,
     "metadata": {},
     "output_type": "execute_result"
    }
   ],
   "source": [
    "avg_calls_per_operator.avg_call_count.describe()"
   ]
  },
  {
   "cell_type": "markdown",
   "metadata": {},
   "source": [
    "We can see that the mean call count is 5.58 per operator, whereby 50% of our operators have a call count of 2.7."
   ]
  },
  {
   "cell_type": "code",
   "execution_count": 61,
   "metadata": {},
   "outputs": [
    {
     "data": {
      "text/plain": [
       "0    1.0\n",
       "dtype: float64"
      ]
     },
     "execution_count": 61,
     "metadata": {},
     "output_type": "execute_result"
    }
   ],
   "source": [
    "#now lets look at the mode\n",
    "avg_calls_per_operator.avg_call_count.mode()"
   ]
  },
  {
   "cell_type": "markdown",
   "metadata": {},
   "source": [
    "we can see that majority of our operators have an average call count of 1"
   ]
  },
  {
   "cell_type": "markdown",
   "metadata": {},
   "source": [
    "**Summary**\n",
    "- We have 1088 unique operators\n",
    "- The mean for total call count per operator is 194 \n",
    "- Using the mode, we can see that majority of operators have a total call count of 1. \n",
    "- The mean for average call count per operator is 5.58\n",
    "- Using the mode we can see that majority of our operators have an average call count of 1. "
   ]
  },
  {
   "cell_type": "markdown",
   "metadata": {},
   "source": [
    "#### 4.2 Outging calls per operator  <a class=\"anchor\" id=\"outgoing_calls\"></a>"
   ]
  },
  {
   "cell_type": "markdown",
   "metadata": {},
   "source": [
    " if an operator is supposed to make outgoing calls, a small number of them is a sign of ineffectiveness."
   ]
  },
  {
   "cell_type": "code",
   "execution_count": 62,
   "metadata": {},
   "outputs": [
    {
     "data": {
      "text/html": [
       "<div>\n",
       "<style scoped>\n",
       "    .dataframe tbody tr th:only-of-type {\n",
       "        vertical-align: middle;\n",
       "    }\n",
       "\n",
       "    .dataframe tbody tr th {\n",
       "        vertical-align: top;\n",
       "    }\n",
       "\n",
       "    .dataframe thead th {\n",
       "        text-align: right;\n",
       "    }\n",
       "</style>\n",
       "<table border=\"1\" class=\"dataframe\">\n",
       "  <thead>\n",
       "    <tr style=\"text-align: right;\">\n",
       "      <th></th>\n",
       "      <th>user_id</th>\n",
       "      <th>date</th>\n",
       "      <th>direction</th>\n",
       "      <th>internal</th>\n",
       "      <th>operator_id</th>\n",
       "      <th>is_missed_call</th>\n",
       "      <th>calls_count</th>\n",
       "      <th>call_duration</th>\n",
       "      <th>total_call_duration</th>\n",
       "      <th>month</th>\n",
       "      <th>day</th>\n",
       "      <th>call_waiting_time</th>\n",
       "    </tr>\n",
       "  </thead>\n",
       "  <tbody>\n",
       "    <tr>\n",
       "      <td>4</td>\n",
       "      <td>166377</td>\n",
       "      <td>2019-08-05 00:00:00+03:00</td>\n",
       "      <td>out</td>\n",
       "      <td>False</td>\n",
       "      <td>880022</td>\n",
       "      <td>True</td>\n",
       "      <td>3</td>\n",
       "      <td>0</td>\n",
       "      <td>25</td>\n",
       "      <td>8</td>\n",
       "      <td>5</td>\n",
       "      <td>25</td>\n",
       "    </tr>\n",
       "    <tr>\n",
       "      <td>5</td>\n",
       "      <td>166377</td>\n",
       "      <td>2019-08-05 00:00:00+03:00</td>\n",
       "      <td>out</td>\n",
       "      <td>False</td>\n",
       "      <td>880020</td>\n",
       "      <td>False</td>\n",
       "      <td>2</td>\n",
       "      <td>3</td>\n",
       "      <td>29</td>\n",
       "      <td>8</td>\n",
       "      <td>5</td>\n",
       "      <td>26</td>\n",
       "    </tr>\n",
       "    <tr>\n",
       "      <td>6</td>\n",
       "      <td>166377</td>\n",
       "      <td>2019-08-05 00:00:00+03:00</td>\n",
       "      <td>out</td>\n",
       "      <td>False</td>\n",
       "      <td>880020</td>\n",
       "      <td>True</td>\n",
       "      <td>8</td>\n",
       "      <td>0</td>\n",
       "      <td>50</td>\n",
       "      <td>8</td>\n",
       "      <td>5</td>\n",
       "      <td>50</td>\n",
       "    </tr>\n",
       "    <tr>\n",
       "      <td>10</td>\n",
       "      <td>166377</td>\n",
       "      <td>2019-08-06 00:00:00+03:00</td>\n",
       "      <td>out</td>\n",
       "      <td>False</td>\n",
       "      <td>881278</td>\n",
       "      <td>True</td>\n",
       "      <td>3</td>\n",
       "      <td>0</td>\n",
       "      <td>29</td>\n",
       "      <td>8</td>\n",
       "      <td>6</td>\n",
       "      <td>29</td>\n",
       "    </tr>\n",
       "    <tr>\n",
       "      <td>11</td>\n",
       "      <td>166377</td>\n",
       "      <td>2019-08-06 00:00:00+03:00</td>\n",
       "      <td>out</td>\n",
       "      <td>False</td>\n",
       "      <td>880020</td>\n",
       "      <td>True</td>\n",
       "      <td>5</td>\n",
       "      <td>0</td>\n",
       "      <td>70</td>\n",
       "      <td>8</td>\n",
       "      <td>6</td>\n",
       "      <td>70</td>\n",
       "    </tr>\n",
       "  </tbody>\n",
       "</table>\n",
       "</div>"
      ],
      "text/plain": [
       "    user_id                      date direction  internal  operator_id  \\\n",
       "4    166377 2019-08-05 00:00:00+03:00       out     False       880022   \n",
       "5    166377 2019-08-05 00:00:00+03:00       out     False       880020   \n",
       "6    166377 2019-08-05 00:00:00+03:00       out     False       880020   \n",
       "10   166377 2019-08-06 00:00:00+03:00       out     False       881278   \n",
       "11   166377 2019-08-06 00:00:00+03:00       out     False       880020   \n",
       "\n",
       "    is_missed_call  calls_count  call_duration  total_call_duration  month  \\\n",
       "4             True            3              0                   25      8   \n",
       "5            False            2              3                   29      8   \n",
       "6             True            8              0                   50      8   \n",
       "10            True            3              0                   29      8   \n",
       "11            True            5              0                   70      8   \n",
       "\n",
       "    day  call_waiting_time  \n",
       "4     5                 25  \n",
       "5     5                 26  \n",
       "6     5                 50  \n",
       "10    6                 29  \n",
       "11    6                 70  "
      ]
     },
     "execution_count": 62,
     "metadata": {},
     "output_type": "execute_result"
    }
   ],
   "source": [
    "#lets first get our operators who have outgoing calls to clients  \n",
    "outgoing_calls=clean_call_data.query('direction == \"out\" and internal==False')\n",
    "outgoing_calls.head()"
   ]
  },
  {
   "cell_type": "code",
   "execution_count": 64,
   "metadata": {},
   "outputs": [
    {
     "data": {
      "text/plain": [
       "829"
      ]
     },
     "execution_count": 64,
     "metadata": {},
     "output_type": "execute_result"
    }
   ],
   "source": [
    "#Lets see how many operators we have in our outgoing calls data\n",
    "outgoing_calls.operator_id.nunique()"
   ]
  },
  {
   "cell_type": "code",
   "execution_count": 65,
   "metadata": {},
   "outputs": [
    {
     "data": {
      "image/png": "[encoded data removed]",
      "text/plain": [
       "<Figure size 432x288 with 1 Axes>"
      ]
     },
     "metadata": {
      "needs_background": "light"
     },
     "output_type": "display_data"
    }
   ],
   "source": [
    "#lets calculate the total amount of outgoig calls per operator and look at the distribution\n",
    "total_outgoing_calls=outgoing_calls.groupby('operator_id')['calls_count'].sum().reset_index()\n",
    "total_outgoing_calls.columns=['operator_id','call_count']\n",
    "total_outgoing_calls.hist('call_count',bins=100, range=(0,50))\n",
    "plt.title('outgoing calls per operator')\n",
    "plt.xlabel('call count')\n",
    "plt.ylabel('frequency');"
   ]
  },
  {
   "cell_type": "code",
   "execution_count": 66,
   "metadata": {},
   "outputs": [
    {
     "data": {
      "text/plain": [
       "count     829.000000\n",
       "mean      180.449940\n",
       "std       292.562387\n",
       "min         1.000000\n",
       "25%         9.000000\n",
       "50%        54.000000\n",
       "75%       213.000000\n",
       "max      2179.000000\n",
       "Name: call_count, dtype: float64"
      ]
     },
     "execution_count": 66,
     "metadata": {},
     "output_type": "execute_result"
    }
   ],
   "source": [
    "total_outgoing_calls.call_count.describe()"
   ]
  },
  {
   "cell_type": "markdown",
   "metadata": {},
   "source": [
    "Our mean total call count for outgoing calls is 180.4, whilst the median is 54. "
   ]
  },
  {
   "cell_type": "code",
   "execution_count": 67,
   "metadata": {
    "scrolled": true
   },
   "outputs": [
    {
     "data": {
      "image/png": "[encoded data removed]",
      "text/plain": [
       "<Figure size 432x288 with 1 Axes>"
      ]
     },
     "metadata": {
      "needs_background": "light"
     },
     "output_type": "display_data"
    }
   ],
   "source": [
    "#lets use a boxplot to determine what is classed as a small number of outgoing calls in our data set\n",
    "plt.boxplot(total_outgoing_calls['call_count'])\n",
    "plt.title('outgoing call count boxplot')\n",
    "plt.ylabel('call count')\n",
    "plt.ylabel('frequency')\n",
    "plt.ylim(0, 220)\n",
    "plt.show()"
   ]
  },
  {
   "cell_type": "markdown",
   "metadata": {},
   "source": [
    "it seems that anything less than 10 outgoing calls in our data is considered a a small number of outgoing calls in our data set"
   ]
  },
  {
   "cell_type": "code",
   "execution_count": 68,
   "metadata": {},
   "outputs": [
    {
     "data": {
      "text/plain": [
       "213"
      ]
     },
     "execution_count": 68,
     "metadata": {},
     "output_type": "execute_result"
    }
   ],
   "source": [
    "#lets see how many operators we have with less then 10 calls \n",
    "less_ten_call=total_outgoing_calls.query('call_count < 10')\n",
    "less_ten_call.operator_id.nunique()"
   ]
  },
  {
   "cell_type": "markdown",
   "metadata": {},
   "source": [
    "we see that we have may operators with a count of one outgoing call in total. "
   ]
  },
  {
   "cell_type": "code",
   "execution_count": 69,
   "metadata": {},
   "outputs": [
    {
     "data": {
      "image/png": "[encoded data removed]",
      "text/plain": [
       "<Figure size 432x288 with 1 Axes>"
      ]
     },
     "metadata": {
      "needs_background": "light"
     },
     "output_type": "display_data"
    }
   ],
   "source": [
    "#lets calculate the average amount of outgoing calls per operator and look at the distribution\n",
    "avg_outgoing_calls=outgoing_calls.groupby('operator_id')['calls_count'].mean().reset_index()\n",
    "avg_outgoing_calls.columns=['operator_id','avg_call_count']\n",
    "avg_outgoing_calls.hist('avg_call_count',bins=100, range=(0,50))\n",
    "plt.title('average outgoing calls per operator')\n",
    "plt.xlabel('call count')\n",
    "plt.ylabel('frequency');"
   ]
  },
  {
   "cell_type": "code",
   "execution_count": 70,
   "metadata": {},
   "outputs": [
    {
     "data": {
      "text/plain": [
       "count    829.000000\n",
       "mean       7.807685\n",
       "std        8.713775\n",
       "min        1.000000\n",
       "25%        1.900000\n",
       "50%        3.727273\n",
       "75%       10.875000\n",
       "max       43.000000\n",
       "Name: avg_call_count, dtype: float64"
      ]
     },
     "execution_count": 70,
     "metadata": {},
     "output_type": "execute_result"
    }
   ],
   "source": [
    "avg_outgoing_calls.avg_call_count.describe()"
   ]
  },
  {
   "cell_type": "markdown",
   "metadata": {},
   "source": [
    "Our mean average call count for outgoing calls is 7.8 whilst the median is 3.7. "
   ]
  },
  {
   "cell_type": "code",
   "execution_count": 71,
   "metadata": {},
   "outputs": [
    {
     "data": {
      "image/png": "[encoded data removed]",
      "text/plain": [
       "<Figure size 432x288 with 1 Axes>"
      ]
     },
     "metadata": {
      "needs_background": "light"
     },
     "output_type": "display_data"
    }
   ],
   "source": [
    "#lets use a boxplot to determine what is classed as a small average number of outgoing calls in our data set\n",
    "plt.boxplot(avg_outgoing_calls['avg_call_count'])\n",
    "plt.title('average outgoing call count boxplot')\n",
    "plt.ylabel('call count')\n",
    "plt.ylabel('frequency')\n",
    "plt.ylim(0, 30)\n",
    "plt.show()"
   ]
  },
  {
   "cell_type": "markdown",
   "metadata": {},
   "source": [
    "it seems that anything less than 2 outgoing calls in our data is considered a a small number of outgoing calls."
   ]
  },
  {
   "cell_type": "code",
   "execution_count": 72,
   "metadata": {},
   "outputs": [
    {
     "data": {
      "text/plain": [
       "213"
      ]
     },
     "execution_count": 72,
     "metadata": {},
     "output_type": "execute_result"
    }
   ],
   "source": [
    "#lets see how many operators have less then 2 calls on avergae \n",
    "less_two_call=avg_outgoing_calls.query('avg_call_count < 2')\n",
    "less_two_call.operator_id.nunique()"
   ]
  },
  {
   "cell_type": "markdown",
   "metadata": {},
   "source": [
    "**Summary**\n",
    "- We have 829 unique operators that have outgoing calls to customers (internal=False)\n",
    "- Our mean total call count for outgoing calls is 180.4, whilst the median is 54. \n",
    "- Our mean average call count for outgoing calls is 7.8 whilst the median is 3.7. \n",
    "- We have 213 operators that have made a total of leass than 10 outgoing call throughout the entire time data was collected \n",
    "- We have 213 operators who made less than 2 calls on average"
   ]
  },
  {
   "cell_type": "markdown",
   "metadata": {},
   "source": [
    "#### 4.3. Missed incoming calls per operator <a class=\"anchor\" id=\"missed_incoming\"></a>"
   ]
  },
  {
   "cell_type": "markdown",
   "metadata": {},
   "source": [
    "An operator is considered ineffective if they have a large number of missed incoming calls. Lets analyze our data and see which operator has the highest amount of incoming missed calls. "
   ]
  },
  {
   "cell_type": "code",
   "execution_count": 73,
   "metadata": {},
   "outputs": [
    {
     "name": "stdout",
     "output_type": "stream",
     "text": [
      "number of incoming missed calls is: 522\n"
     ]
    }
   ],
   "source": [
    "#lets see how many incomming missed calls we have \n",
    "incoming_missed= clean_call_data.query('direction == \"in\" and is_missed_call == True')\n",
    "print('number of incoming missed calls is:', len(incoming_missed))"
   ]
  },
  {
   "cell_type": "code",
   "execution_count": 74,
   "metadata": {},
   "outputs": [
    {
     "data": {
      "text/plain": [
       "200"
      ]
     },
     "execution_count": 74,
     "metadata": {},
     "output_type": "execute_result"
    }
   ],
   "source": [
    "#lets see how many operators we have in our missed incoming calls data\n",
    "incoming_missed.operator_id.nunique()"
   ]
  },
  {
   "cell_type": "code",
   "execution_count": 75,
   "metadata": {},
   "outputs": [
    {
     "data": {
      "image/png": "[encoded data removed]",
      "text/plain": [
       "<Figure size 432x288 with 1 Axes>"
      ]
     },
     "metadata": {
      "needs_background": "light"
     },
     "output_type": "display_data"
    }
   ],
   "source": [
    "#and now lets see the distribution of the incoming missed calls per operator\n",
    "missed_operator_count=incoming_missed.groupby('operator_id')['is_missed_call'].count().reset_index()\n",
    "missed_operator_count.hist('is_missed_call',bins=50, range=(0,30))\n",
    "plt.title('incoming missed calls per operator')\n",
    "plt.xlabel('call count')\n",
    "plt.ylabel('frequency');"
   ]
  },
  {
   "cell_type": "code",
   "execution_count": 76,
   "metadata": {},
   "outputs": [
    {
     "data": {
      "text/plain": [
       "count    200.000000\n",
       "mean       2.610000\n",
       "std        3.473937\n",
       "min        1.000000\n",
       "25%        1.000000\n",
       "50%        1.000000\n",
       "75%        2.000000\n",
       "max       28.000000\n",
       "Name: is_missed_call, dtype: float64"
      ]
     },
     "execution_count": 76,
     "metadata": {},
     "output_type": "execute_result"
    }
   ],
   "source": [
    "missed_operator_count.is_missed_call.describe()"
   ]
  },
  {
   "cell_type": "markdown",
   "metadata": {},
   "source": [
    "we see that 50% of our operators only have 1 missed call and that the 75 percentile of our data only has 2 missed calls. Our mean is close to 3 missed calls so its fair to say that 28 missed calls is extremely high in comparison."
   ]
  },
  {
   "cell_type": "code",
   "execution_count": 77,
   "metadata": {},
   "outputs": [
    {
     "data": {
      "image/png": "[encoded data removed]",
      "text/plain": [
       "<Figure size 432x288 with 1 Axes>"
      ]
     },
     "metadata": {
      "needs_background": "light"
     },
     "output_type": "display_data"
    }
   ],
   "source": [
    "#lets use a boxplot to determine what is classed as a high amount of missed calls in this data set\n",
    "plt.boxplot(missed_operator_count['is_missed_call'])\n",
    "plt.title('missed call count boxplot')\n",
    "plt.ylabel('missed call count')\n",
    "plt.ylabel('frequency')\n",
    "plt.ylim(0, 20)\n",
    "plt.show()"
   ]
  },
  {
   "cell_type": "markdown",
   "metadata": {},
   "source": [
    "According to our boxplot, anthing above 3 calls is considered high (an outlier). "
   ]
  },
  {
   "cell_type": "code",
   "execution_count": 78,
   "metadata": {},
   "outputs": [
    {
     "data": {
      "text/plain": [
       "36"
      ]
     },
     "execution_count": 78,
     "metadata": {},
     "output_type": "execute_result"
    }
   ],
   "source": [
    "#lets see how many of our operators have more than 3 missed calls \n",
    "missed_more_three=missed_operator_count.query('is_missed_call > 3')\n",
    "missed_more_three.operator_id.nunique()"
   ]
  },
  {
   "cell_type": "code",
   "execution_count": 79,
   "metadata": {},
   "outputs": [
    {
     "data": {
      "image/png": "[encoded data removed]",
      "text/plain": [
       "<Figure size 1152x720 with 1 Axes>"
      ]
     },
     "metadata": {
      "needs_background": "light"
     },
     "output_type": "display_data"
    }
   ],
   "source": [
    "#lets visualise our operators with more than 3 missed calls\n",
    "plt.figure(figsize=(16,10))\n",
    "sns.barplot(x='operator_id', y='is_missed_call', data=missed_more_three, linewidth=10)\n",
    "plt.xticks(rotation = 90)\n",
    "plt.title(\"distribution of the incoming missed calls per operator\")\n",
    "plt.ylabel(\"operator\")\n",
    "plt.xlabel(\"missed calls\");"
   ]
  },
  {
   "cell_type": "code",
   "execution_count": 80,
   "metadata": {},
   "outputs": [
    {
     "data": {
      "text/html": [
       "<div>\n",
       "<style scoped>\n",
       "    .dataframe tbody tr th:only-of-type {\n",
       "        vertical-align: middle;\n",
       "    }\n",
       "\n",
       "    .dataframe tbody tr th {\n",
       "        vertical-align: top;\n",
       "    }\n",
       "\n",
       "    .dataframe thead th {\n",
       "        text-align: right;\n",
       "    }\n",
       "</style>\n",
       "<table border=\"1\" class=\"dataframe\">\n",
       "  <thead>\n",
       "    <tr style=\"text-align: right;\">\n",
       "      <th></th>\n",
       "      <th>operator_id</th>\n",
       "      <th>is_missed_call</th>\n",
       "    </tr>\n",
       "  </thead>\n",
       "  <tbody>\n",
       "    <tr>\n",
       "      <td>82</td>\n",
       "      <td>913942</td>\n",
       "      <td>28</td>\n",
       "    </tr>\n",
       "  </tbody>\n",
       "</table>\n",
       "</div>"
      ],
      "text/plain": [
       "    operator_id  is_missed_call\n",
       "82       913942              28"
      ]
     },
     "execution_count": 80,
     "metadata": {},
     "output_type": "execute_result"
    }
   ],
   "source": [
    "#lets print the operator that has the largest amount of missed calls. \n",
    "missed_operator_count=missed_operator_count.sort_values(by='is_missed_call', ascending=False)\n",
    "missed_operator_count.head(1)"
   ]
  },
  {
   "cell_type": "markdown",
   "metadata": {},
   "source": [
    "we can see that operator 913942 has the highest total amountof missed calls, 28 missed calls. "
   ]
  },
  {
   "cell_type": "code",
   "execution_count": 81,
   "metadata": {},
   "outputs": [
    {
     "data": {
      "image/png": "[encoded data removed]",
      "text/plain": [
       "<Figure size 432x288 with 1 Axes>"
      ]
     },
     "metadata": {
      "needs_background": "light"
     },
     "output_type": "display_data"
    }
   ],
   "source": [
    "#now lets see the distribution of the incoming missed calls per operator per month\n",
    "missed_operator_month=incoming_missed.groupby(['operator_id', 'month'])['is_missed_call'].count().reset_index()\n",
    "missed_operator_month=missed_operator_month.sort_values(by='is_missed_call', ascending=False)\n",
    "missed_operator_month.hist('is_missed_call',bins=50, range=(0,20))\n",
    "plt.title('incoming missed calls per operator per month')\n",
    "plt.xlabel('call count')\n",
    "plt.ylabel('frequency');\n"
   ]
  },
  {
   "cell_type": "code",
   "execution_count": 82,
   "metadata": {},
   "outputs": [
    {
     "data": {
      "text/plain": [
       "1.9923664122137406"
      ]
     },
     "execution_count": 82,
     "metadata": {},
     "output_type": "execute_result"
    }
   ],
   "source": [
    "missed_operator_month.is_missed_call.mean()"
   ]
  },
  {
   "cell_type": "markdown",
   "metadata": {},
   "source": [
    "We can see that majority of the operators dont have more than 2 missed calls per month, with majority having only one. "
   ]
  },
  {
   "cell_type": "code",
   "execution_count": 83,
   "metadata": {},
   "outputs": [
    {
     "data": {
      "text/plain": [
       "34"
      ]
     },
     "execution_count": 83,
     "metadata": {},
     "output_type": "execute_result"
    }
   ],
   "source": [
    "#lets see how many of our operators have more than 2 missed calls per month \n",
    "missed_month_two=missed_operator_month.query('is_missed_call > 2')\n",
    "missed_month_two.operator_id.nunique()"
   ]
  },
  {
   "cell_type": "code",
   "execution_count": 84,
   "metadata": {},
   "outputs": [
    {
     "data": {
      "image/png": "[encoded data removed]",
      "text/plain": [
       "<Figure size 1152x720 with 1 Axes>"
      ]
     },
     "metadata": {
      "needs_background": "light"
     },
     "output_type": "display_data"
    }
   ],
   "source": [
    "#lets print the operatos with more than 2 missed calls per month\n",
    "plt.figure(figsize=(16,10))\n",
    "plt.xticks(rotation = 90)\n",
    "sns.barplot(x='operator_id', y='is_missed_call', data=missed_month_two, linewidth=10)\n",
    "plt.title(\"Incoming missed calls per operator\")\n",
    "plt.ylabel(\"Missed incoming calls\")\n",
    "plt.xlabel(\"Operator\");"
   ]
  },
  {
   "cell_type": "code",
   "execution_count": 85,
   "metadata": {},
   "outputs": [
    {
     "data": {
      "text/html": [
       "<div>\n",
       "<style scoped>\n",
       "    .dataframe tbody tr th:only-of-type {\n",
       "        vertical-align: middle;\n",
       "    }\n",
       "\n",
       "    .dataframe tbody tr th {\n",
       "        vertical-align: top;\n",
       "    }\n",
       "\n",
       "    .dataframe thead th {\n",
       "        text-align: right;\n",
       "    }\n",
       "</style>\n",
       "<table border=\"1\" class=\"dataframe\">\n",
       "  <thead>\n",
       "    <tr style=\"text-align: right;\">\n",
       "      <th></th>\n",
       "      <th>operator_id</th>\n",
       "      <th>month</th>\n",
       "      <th>is_missed_call</th>\n",
       "    </tr>\n",
       "  </thead>\n",
       "  <tbody>\n",
       "    <tr>\n",
       "      <td>118</td>\n",
       "      <td>913942</td>\n",
       "      <td>10</td>\n",
       "      <td>14</td>\n",
       "    </tr>\n",
       "    <tr>\n",
       "      <td>119</td>\n",
       "      <td>913942</td>\n",
       "      <td>11</td>\n",
       "      <td>12</td>\n",
       "    </tr>\n",
       "    <tr>\n",
       "      <td>12</td>\n",
       "      <td>885890</td>\n",
       "      <td>9</td>\n",
       "      <td>11</td>\n",
       "    </tr>\n",
       "    <tr>\n",
       "      <td>9</td>\n",
       "      <td>885876</td>\n",
       "      <td>9</td>\n",
       "      <td>11</td>\n",
       "    </tr>\n",
       "    <tr>\n",
       "      <td>234</td>\n",
       "      <td>944216</td>\n",
       "      <td>11</td>\n",
       "      <td>10</td>\n",
       "    </tr>\n",
       "    <tr>\n",
       "      <td>242</td>\n",
       "      <td>944226</td>\n",
       "      <td>11</td>\n",
       "      <td>9</td>\n",
       "    </tr>\n",
       "    <tr>\n",
       "      <td>177</td>\n",
       "      <td>931458</td>\n",
       "      <td>11</td>\n",
       "      <td>8</td>\n",
       "    </tr>\n",
       "    <tr>\n",
       "      <td>162</td>\n",
       "      <td>925922</td>\n",
       "      <td>10</td>\n",
       "      <td>8</td>\n",
       "    </tr>\n",
       "    <tr>\n",
       "      <td>116</td>\n",
       "      <td>913938</td>\n",
       "      <td>11</td>\n",
       "      <td>8</td>\n",
       "    </tr>\n",
       "    <tr>\n",
       "      <td>236</td>\n",
       "      <td>944218</td>\n",
       "      <td>11</td>\n",
       "      <td>7</td>\n",
       "    </tr>\n",
       "  </tbody>\n",
       "</table>\n",
       "</div>"
      ],
      "text/plain": [
       "     operator_id  month  is_missed_call\n",
       "118       913942     10              14\n",
       "119       913942     11              12\n",
       "12        885890      9              11\n",
       "9         885876      9              11\n",
       "234       944216     11              10\n",
       "242       944226     11               9\n",
       "177       931458     11               8\n",
       "162       925922     10               8\n",
       "116       913938     11               8\n",
       "236       944218     11               7"
      ]
     },
     "execution_count": 85,
     "metadata": {},
     "output_type": "execute_result"
    }
   ],
   "source": [
    "missed_month_two.head(10)"
   ]
  },
  {
   "cell_type": "markdown",
   "metadata": {},
   "source": [
    "When we group by month, we can see that operator 913942 still has the highest total amount of of missed calls, this being for October and November. "
   ]
  },
  {
   "cell_type": "markdown",
   "metadata": {},
   "source": [
    "#### Summary\n",
    "- We have 522 missed incoming calls. \n",
    "- We have a total of 200 operators with missed incoming calls.\n",
    "- Majority of our operators have a total of 3 mised calls.\n",
    "- We have 36 operators with more than 3 missed calls.\n",
    "- Operator 913942 has the highest total amount of incoming missed calls, 28 missed calls. \n",
    "- Operator 913942 has the most incoming missed calls in total and for Novemner and October. "
   ]
  },
  {
   "cell_type": "markdown",
   "metadata": {},
   "source": [
    "#### 4.4. Waiting time per operator, on average and total <a class=\"anchor\" id=\"waiting_time\"></a>"
   ]
  },
  {
   "cell_type": "code",
   "execution_count": 86,
   "metadata": {},
   "outputs": [],
   "source": [
    "#lets first get our data for incoming calls that are not missed calls\n",
    "incoming_calls_ = clean_call_data.query('direction == \"in\" and is_missed_call == False')"
   ]
  },
  {
   "cell_type": "code",
   "execution_count": 87,
   "metadata": {},
   "outputs": [
    {
     "data": {
      "image/png": "[encoded data removed]",
      "text/plain": [
       "<Figure size 432x288 with 1 Axes>"
      ]
     },
     "metadata": {
      "needs_background": "light"
     },
     "output_type": "display_data"
    }
   ],
   "source": [
    "#lets see the distribution of our avg waiting time is for the data\n",
    "avg_waiting_time = incoming_calls_.pivot_table(index='operator_id', values='call_waiting_time')\n",
    "avg_waiting_time.hist('call_waiting_time',bins=100, range=(0,300))\n",
    "plt.title('average waiting time per operator')\n",
    "plt.xlabel('waiting timet')\n",
    "plt.ylabel('frequency');"
   ]
  },
  {
   "cell_type": "code",
   "execution_count": 88,
   "metadata": {},
   "outputs": [
    {
     "data": {
      "text/plain": [
       "count    753.000000\n",
       "mean      47.988220\n",
       "std       62.337743\n",
       "min        1.000000\n",
       "25%       17.142857\n",
       "50%       30.358974\n",
       "75%       55.700000\n",
       "max      714.500000\n",
       "Name: call_waiting_time, dtype: float64"
      ]
     },
     "execution_count": 88,
     "metadata": {},
     "output_type": "execute_result"
    }
   ],
   "source": [
    "avg_waiting_time.call_waiting_time.describe()"
   ]
  },
  {
   "cell_type": "markdown",
   "metadata": {},
   "source": [
    "Our mean average waiting time is 47.9 meanng the average waiting time for majority of the incoming calls is less than 50 seconds, so less than a minute. "
   ]
  },
  {
   "cell_type": "code",
   "execution_count": 89,
   "metadata": {
    "scrolled": true
   },
   "outputs": [
    {
     "data": {
      "image/png": "[encoded data removed]",
      "text/plain": [
       "<Figure size 432x288 with 1 Axes>"
      ]
     },
     "metadata": {
      "needs_background": "light"
     },
     "output_type": "display_data"
    }
   ],
   "source": [
    "#lets use a boxplot to determine what is classed as a long waiting time in this data set\n",
    "plt.boxplot(avg_waiting_time['call_waiting_time'])\n",
    "plt.title('waiting time count boxplot')\n",
    "plt.ylabel('waiting time')\n",
    "plt.ylabel('frequency')\n",
    "plt.ylim(0, 120)\n",
    "plt.show()"
   ]
  },
  {
   "cell_type": "markdown",
   "metadata": {},
   "source": [
    "According to our boxplot, anything above 115 seconds is considered an outlier, we can thus assume that any average waiting time above 115 seconds, that is close to 2 minutes, is a long waiting time. "
   ]
  },
  {
   "cell_type": "code",
   "execution_count": 90,
   "metadata": {},
   "outputs": [
    {
     "data": {
      "text/plain": [
       "52"
      ]
     },
     "execution_count": 90,
     "metadata": {},
     "output_type": "execute_result"
    }
   ],
   "source": [
    "#lets see how many operators we have with more than 115 seconds average waiting time\n",
    "long_avg_waiting=avg_waiting_time.query('call_waiting_time > 115').reset_index()\n",
    "long_avg_waiting.operator_id.nunique()"
   ]
  },
  {
   "cell_type": "code",
   "execution_count": 91,
   "metadata": {},
   "outputs": [
    {
     "data": {
      "text/html": [
       "<div>\n",
       "<style scoped>\n",
       "    .dataframe tbody tr th:only-of-type {\n",
       "        vertical-align: middle;\n",
       "    }\n",
       "\n",
       "    .dataframe tbody tr th {\n",
       "        vertical-align: top;\n",
       "    }\n",
       "\n",
       "    .dataframe thead th {\n",
       "        text-align: right;\n",
       "    }\n",
       "</style>\n",
       "<table border=\"1\" class=\"dataframe\">\n",
       "  <thead>\n",
       "    <tr style=\"text-align: right;\">\n",
       "      <th></th>\n",
       "      <th>operator_id</th>\n",
       "      <th>call_waiting_time</th>\n",
       "    </tr>\n",
       "  </thead>\n",
       "  <tbody>\n",
       "    <tr>\n",
       "      <td>0</td>\n",
       "      <td>919794</td>\n",
       "      <td>714.500000</td>\n",
       "    </tr>\n",
       "    <tr>\n",
       "      <td>1</td>\n",
       "      <td>906076</td>\n",
       "      <td>611.500000</td>\n",
       "    </tr>\n",
       "    <tr>\n",
       "      <td>2</td>\n",
       "      <td>919206</td>\n",
       "      <td>430.000000</td>\n",
       "    </tr>\n",
       "    <tr>\n",
       "      <td>3</td>\n",
       "      <td>919790</td>\n",
       "      <td>409.633333</td>\n",
       "    </tr>\n",
       "    <tr>\n",
       "      <td>4</td>\n",
       "      <td>919554</td>\n",
       "      <td>401.641509</td>\n",
       "    </tr>\n",
       "    <tr>\n",
       "      <td>5</td>\n",
       "      <td>919552</td>\n",
       "      <td>400.266667</td>\n",
       "    </tr>\n",
       "    <tr>\n",
       "      <td>6</td>\n",
       "      <td>919792</td>\n",
       "      <td>363.215686</td>\n",
       "    </tr>\n",
       "    <tr>\n",
       "      <td>7</td>\n",
       "      <td>958460</td>\n",
       "      <td>337.533333</td>\n",
       "    </tr>\n",
       "    <tr>\n",
       "      <td>8</td>\n",
       "      <td>882688</td>\n",
       "      <td>336.500000</td>\n",
       "    </tr>\n",
       "    <tr>\n",
       "      <td>9</td>\n",
       "      <td>906406</td>\n",
       "      <td>335.500000</td>\n",
       "    </tr>\n",
       "  </tbody>\n",
       "</table>\n",
       "</div>"
      ],
      "text/plain": [
       "   operator_id  call_waiting_time\n",
       "0       919794         714.500000\n",
       "1       906076         611.500000\n",
       "2       919206         430.000000\n",
       "3       919790         409.633333\n",
       "4       919554         401.641509\n",
       "5       919552         400.266667\n",
       "6       919792         363.215686\n",
       "7       958460         337.533333\n",
       "8       882688         336.500000\n",
       "9       906406         335.500000"
      ]
     },
     "execution_count": 91,
     "metadata": {},
     "output_type": "execute_result"
    }
   ],
   "source": [
    "#lets print the 10 operators with the longest avg waiting time\n",
    "longest_waiting_time =avg_waiting_time.sort_values(by='call_waiting_time', ascending=False).reset_index()\n",
    "longest_waiting_time.head(10)"
   ]
  },
  {
   "cell_type": "markdown",
   "metadata": {},
   "source": [
    "The operator with the highest avg waiting time is 919794, with a wating time of 12 minutes. "
   ]
  },
  {
   "cell_type": "code",
   "execution_count": 92,
   "metadata": {},
   "outputs": [
    {
     "data": {
      "image/png": "[encoded data removed]",
      "text/plain": [
       "<Figure size 576x576 with 1 Axes>"
      ]
     },
     "metadata": {
      "needs_background": "light"
     },
     "output_type": "display_data"
    }
   ],
   "source": [
    "#lets visualize this\n",
    "longest_waiting_operator=longest_waiting_time.head(10)\n",
    "plt.figure(figsize=(8,8))\n",
    "sns.barplot(x='operator_id', y='call_waiting_time', data=longest_waiting_operator, linewidth=10)\n",
    "plt.title(\"average waiting time per operator\")\n",
    "plt.ylabel(\"waiting time\")\n",
    "plt.xlabel(\"Operator\");"
   ]
  },
  {
   "cell_type": "markdown",
   "metadata": {},
   "source": [
    "we can see that the longest average waiting time is for operator 919794, an average time of 10 minutes. This is followed by operator 906076\t with an average waiting time of 10.1 minutes. \""
   ]
  },
  {
   "cell_type": "code",
   "execution_count": 93,
   "metadata": {},
   "outputs": [
    {
     "data": {
      "text/html": [
       "<div>\n",
       "<style scoped>\n",
       "    .dataframe tbody tr th:only-of-type {\n",
       "        vertical-align: middle;\n",
       "    }\n",
       "\n",
       "    .dataframe tbody tr th {\n",
       "        vertical-align: top;\n",
       "    }\n",
       "\n",
       "    .dataframe thead th {\n",
       "        text-align: right;\n",
       "    }\n",
       "</style>\n",
       "<table border=\"1\" class=\"dataframe\">\n",
       "  <thead>\n",
       "    <tr style=\"text-align: right;\">\n",
       "      <th></th>\n",
       "      <th>operator_id</th>\n",
       "      <th>month</th>\n",
       "      <th>call_waiting_time</th>\n",
       "    </tr>\n",
       "  </thead>\n",
       "  <tbody>\n",
       "    <tr>\n",
       "      <td>528</td>\n",
       "      <td>906070</td>\n",
       "      <td>10</td>\n",
       "      <td>1330.111111</td>\n",
       "    </tr>\n",
       "    <tr>\n",
       "      <td>816</td>\n",
       "      <td>919794</td>\n",
       "      <td>10</td>\n",
       "      <td>1063.055556</td>\n",
       "    </tr>\n",
       "    <tr>\n",
       "      <td>551</td>\n",
       "      <td>906404</td>\n",
       "      <td>9</td>\n",
       "      <td>1010.000000</td>\n",
       "    </tr>\n",
       "    <tr>\n",
       "      <td>811</td>\n",
       "      <td>919790</td>\n",
       "      <td>11</td>\n",
       "      <td>974.607143</td>\n",
       "    </tr>\n",
       "    <tr>\n",
       "      <td>554</td>\n",
       "      <td>906406</td>\n",
       "      <td>9</td>\n",
       "      <td>951.000000</td>\n",
       "    </tr>\n",
       "  </tbody>\n",
       "</table>\n",
       "</div>"
      ],
      "text/plain": [
       "     operator_id  month  call_waiting_time\n",
       "528       906070     10        1330.111111\n",
       "816       919794     10        1063.055556\n",
       "551       906404      9        1010.000000\n",
       "811       919790     11         974.607143\n",
       "554       906406      9         951.000000"
      ]
     },
     "execution_count": 93,
     "metadata": {},
     "output_type": "execute_result"
    }
   ],
   "source": [
    "#now lets see the average waiting time per operator per month\n",
    "avg_waiting_month=incoming_calls.groupby(['operator_id', 'month'])['call_waiting_time'].mean().reset_index()\n",
    "avg_waiting_month=avg_waiting_month.sort_values(by='call_waiting_time', ascending=False)\n",
    "avg_waiting_month.head()"
   ]
  },
  {
   "cell_type": "markdown",
   "metadata": {},
   "source": [
    "The longest average waiting time was in October for operator 906070. "
   ]
  },
  {
   "cell_type": "code",
   "execution_count": 94,
   "metadata": {},
   "outputs": [
    {
     "data": {
      "image/png": "[encoded data removed]",
      "text/plain": [
       "<Figure size 432x288 with 1 Axes>"
      ]
     },
     "metadata": {
      "needs_background": "light"
     },
     "output_type": "display_data"
    }
   ],
   "source": [
    "#lets look at the distribution of the total waiting time_waiting_month=incoming_calls.groupby(['operator_id', 'month'])['call_waiting_time'].mean().reset_index()\n",
    "#lets see the distribution of our avg waiting time is for the data\n",
    "total_waiting=incoming_calls.groupby(['operator_id'])['call_waiting_time'].sum().reset_index()\n",
    "total_waiting.hist('call_waiting_time',bins=100, range=(0,2000))\n",
    "plt.title('total waiting time per operator')\n",
    "plt.xlabel('waiting time')\n",
    "plt.ylabel('frequency');"
   ]
  },
  {
   "cell_type": "code",
   "execution_count": 95,
   "metadata": {},
   "outputs": [
    {
     "data": {
      "text/plain": [
       "count      754.000000\n",
       "mean      1634.348806\n",
       "std       4633.250488\n",
       "min          1.000000\n",
       "25%         61.250000\n",
       "50%        255.000000\n",
       "75%       1062.000000\n",
       "max      52795.000000\n",
       "Name: call_waiting_time, dtype: float64"
      ]
     },
     "execution_count": 95,
     "metadata": {},
     "output_type": "execute_result"
    }
   ],
   "source": [
    "total_waiting.call_waiting_time.describe()"
   ]
  },
  {
   "cell_type": "markdown",
   "metadata": {},
   "source": [
    "our total waiting time has a mean of 1634. however the satndars deviation is large here, so we will use the boxplot to get a btter idea of our distribution "
   ]
  },
  {
   "cell_type": "code",
   "execution_count": 96,
   "metadata": {},
   "outputs": [
    {
     "data": {
      "image/png": "[encoded data removed]",
      "text/plain": [
       "<Figure size 432x288 with 1 Axes>"
      ]
     },
     "metadata": {
      "needs_background": "light"
     },
     "output_type": "display_data"
    }
   ],
   "source": [
    "#lets use a boxplot to determine what is classed as a long waiting time in this data set\n",
    "plt.boxplot(total_waiting['call_waiting_time'])\n",
    "plt.title('waiting time count boxplot')\n",
    "plt.ylabel('waiting time')\n",
    "plt.ylabel('frequency')\n",
    "plt.ylim(0, 1200)\n",
    "plt.show()"
   ]
  },
  {
   "cell_type": "markdown",
   "metadata": {},
   "source": [
    "According to our boxplot, anything above 1100 seconds is considered an outlier and we can thus assume this is a long total waiting time for this data set. "
   ]
  },
  {
   "cell_type": "code",
   "execution_count": 97,
   "metadata": {},
   "outputs": [
    {
     "data": {
      "text/plain": [
       "187"
      ]
     },
     "execution_count": 97,
     "metadata": {},
     "output_type": "execute_result"
    }
   ],
   "source": [
    "#lets see how many operators we have with more than 1100 seconds waiting time\n",
    "long_total_waiting=total_waiting.query('call_waiting_time > 1100').reset_index()\n",
    "long_total_waiting.operator_id.nunique()"
   ]
  },
  {
   "cell_type": "code",
   "execution_count": 98,
   "metadata": {},
   "outputs": [
    {
     "data": {
      "text/html": [
       "<div>\n",
       "<style scoped>\n",
       "    .dataframe tbody tr th:only-of-type {\n",
       "        vertical-align: middle;\n",
       "    }\n",
       "\n",
       "    .dataframe tbody tr th {\n",
       "        vertical-align: top;\n",
       "    }\n",
       "\n",
       "    .dataframe thead th {\n",
       "        text-align: right;\n",
       "    }\n",
       "</style>\n",
       "<table border=\"1\" class=\"dataframe\">\n",
       "  <thead>\n",
       "    <tr style=\"text-align: right;\">\n",
       "      <th></th>\n",
       "      <th>operator_id</th>\n",
       "      <th>month</th>\n",
       "      <th>call_waiting_time</th>\n",
       "    </tr>\n",
       "  </thead>\n",
       "  <tbody>\n",
       "    <tr>\n",
       "      <td>811</td>\n",
       "      <td>919790</td>\n",
       "      <td>11</td>\n",
       "      <td>27289</td>\n",
       "    </tr>\n",
       "    <tr>\n",
       "      <td>1014</td>\n",
       "      <td>931458</td>\n",
       "      <td>11</td>\n",
       "      <td>24697</td>\n",
       "    </tr>\n",
       "    <tr>\n",
       "      <td>810</td>\n",
       "      <td>919790</td>\n",
       "      <td>10</td>\n",
       "      <td>21820</td>\n",
       "    </tr>\n",
       "    <tr>\n",
       "      <td>710</td>\n",
       "      <td>913938</td>\n",
       "      <td>10</td>\n",
       "      <td>21071</td>\n",
       "    </tr>\n",
       "    <tr>\n",
       "      <td>867</td>\n",
       "      <td>921318</td>\n",
       "      <td>11</td>\n",
       "      <td>21061</td>\n",
       "    </tr>\n",
       "    <tr>\n",
       "      <td>807</td>\n",
       "      <td>919554</td>\n",
       "      <td>10</td>\n",
       "      <td>20448</td>\n",
       "    </tr>\n",
       "    <tr>\n",
       "      <td>816</td>\n",
       "      <td>919794</td>\n",
       "      <td>10</td>\n",
       "      <td>19135</td>\n",
       "    </tr>\n",
       "    <tr>\n",
       "      <td>804</td>\n",
       "      <td>919552</td>\n",
       "      <td>10</td>\n",
       "      <td>18458</td>\n",
       "    </tr>\n",
       "    <tr>\n",
       "      <td>805</td>\n",
       "      <td>919552</td>\n",
       "      <td>11</td>\n",
       "      <td>17637</td>\n",
       "    </tr>\n",
       "    <tr>\n",
       "      <td>808</td>\n",
       "      <td>919554</td>\n",
       "      <td>11</td>\n",
       "      <td>16760</td>\n",
       "    </tr>\n",
       "  </tbody>\n",
       "</table>\n",
       "</div>"
      ],
      "text/plain": [
       "      operator_id  month  call_waiting_time\n",
       "811        919790     11              27289\n",
       "1014       931458     11              24697\n",
       "810        919790     10              21820\n",
       "710        913938     10              21071\n",
       "867        921318     11              21061\n",
       "807        919554     10              20448\n",
       "816        919794     10              19135\n",
       "804        919552     10              18458\n",
       "805        919552     11              17637\n",
       "808        919554     11              16760"
      ]
     },
     "execution_count": 98,
     "metadata": {},
     "output_type": "execute_result"
    }
   ],
   "source": [
    "#lets now groupby operator and month and find total waiting time per operator per month\n",
    "total_waiting_month=incoming_calls.groupby(['operator_id', 'month'])['call_waiting_time'].sum().reset_index()\n",
    "total_waiting_month=total_waiting_month.sort_values(by='call_waiting_time', ascending=False)\n",
    "total_waiting_month.head(10)"
   ]
  },
  {
   "cell_type": "markdown",
   "metadata": {},
   "source": [
    "The longest total waiting time was in November, for operator 919790. "
   ]
  },
  {
   "cell_type": "markdown",
   "metadata": {},
   "source": [
    "- the mean waiting time is 48 seconds.\n",
    "- average waiting time above 120 seconds is considered a long waiting time.\n",
    "- total waiting time above 1100 seconds is considered a long waiting time.\n",
    "- we have 52 operators with long waiting time\n",
    "- the longest average waiting time is for operator 919794.\n",
    "- The longest total waiting time was in November, for operator 919790. "
   ]
  },
  {
   "cell_type": "markdown",
   "metadata": {},
   "source": [
    "#### 4.5. Analysis Summary <a class=\"anchor\" id=\"analysis_summary\"></a>"
   ]
  },
  {
   "cell_type": "markdown",
   "metadata": {},
   "source": [
    "<br>**Total and average call count per operator:**\n",
    "- We have 1088 unique operators\n",
    "- The mean for total call count per operator is 194 \n",
    "- The mean for average call count per operator is 5.58\n",
    "\n",
    "<br> **Outging calls per operator:**\n",
    "- We have 829 unique operators that have outgoing calls to customers (internal=False)\n",
    "- Our mean total call count for outgoing calls is 180.4, whilst the median is 54. \n",
    "- Our mean average call count for outgoing calls is 7.8 whilst the median is 3.7. \n",
    "- Anything less than 10 outgoing calls (total) in our data is considered a a small number of outgoing calls.\n",
    "- Aything less than 2 outgoing calls on averge  in our data is considered a small number of outgoing calls.\n",
    "- We have 213 operators that have made a total of leass than 10 outgoing call throughout the entire time data was collected \n",
    "- We have 213 operators who made less than 2 calls on average\n",
    "\n",
    "<br>**Missed incoming calls per operator:**\n",
    "- We have 522 missed incoming calls. \n",
    "- We have a total of 200 operators with missed incoming calls.\n",
    "- Majority of our operators have a no more than 3 missed calls.\n",
    "- We have 36 operators with more than 3 missed calls.\n",
    "- Operator 913942 has the highest total amount of incoming missed calls, 28 missed calls. \n",
    "- Operator 913942 has the most incoming missed calls in total and for Novemner and October. \n",
    "\n",
    "<br>**Average waiting time per oerator:**\n",
    "- Our mean average waiting time is 47.9 meaning the average waiting time for majority of the incoming calls is less than 50 seconds, so less than a minute. \n",
    "- The operator with the highest avg waiting time in general is operator 919794, with a wating time of 12 minutes. \n",
    "- We have 52 operators with long waiting time.\n",
    "- The longest average waiting time was in October for operator 906070. \n",
    "\n",
    "<br>**Total waiting time per operator**\n",
    "- our total waiting time has a mean waiting time of 1634 seconds. \n",
    "- Anything above 1100 seconds is considered a long waiting time for this data set.\n",
    "- Anything above 115 seconds is considered a long average waiting time for this data set.\n",
    "- We have 187 operators with long waiting time.\n",
    "- The longest total waiting time was in November (operator 919790)\n",
    "\n",
    "<br>**Ineffective operators**\n",
    "<br> based on the analysis an ineffective operator will have:\n",
    "- less than 10 outgoing calls\n",
    "- more than 3 missed incoming calls \n",
    "- call waiting time is greater than 1100 seconds\n"
   ]
  },
  {
   "cell_type": "markdown",
   "metadata": {},
   "source": [
    "<div class=\"alert alert-success\" role=\"alert\">\n",
    "  All is fine, as usual:) But don't forget that there are other techniques to determine outliers except boxplots. And sometimes it's better to compare several methods and to use logic to determine the best one. It's just an advise, to use boxplot is also acceptable:)\n",
    "</div>"
   ]
  },
  {
   "cell_type": "markdown",
   "metadata": {},
   "source": [
    "### Step 5. Testing hypotheses <a class=\"anchor\" id=\"testing_hypothesis\"></a> "
   ]
  },
  {
   "cell_type": "markdown",
   "metadata": {},
   "source": [
    "#### 5.1. Filtering the data <a class=\"anchor\" id=\"filtering_data\"></a>"
   ]
  },
  {
   "cell_type": "markdown",
   "metadata": {},
   "source": [
    "Lets first filter the data into effective and ineffective operators based on the conditions above."
   ]
  },
  {
   "cell_type": "code",
   "execution_count": 101,
   "metadata": {},
   "outputs": [
    {
     "data": {
      "text/html": [
       "<div>\n",
       "<style scoped>\n",
       "    .dataframe tbody tr th:only-of-type {\n",
       "        vertical-align: middle;\n",
       "    }\n",
       "\n",
       "    .dataframe tbody tr th {\n",
       "        vertical-align: top;\n",
       "    }\n",
       "\n",
       "    .dataframe thead th {\n",
       "        text-align: right;\n",
       "    }\n",
       "</style>\n",
       "<table border=\"1\" class=\"dataframe\">\n",
       "  <thead>\n",
       "    <tr style=\"text-align: right;\">\n",
       "      <th></th>\n",
       "      <th>operator_id</th>\n",
       "      <th>missed_call_count</th>\n",
       "    </tr>\n",
       "  </thead>\n",
       "  <tbody>\n",
       "    <tr>\n",
       "      <td>1</td>\n",
       "      <td>882684</td>\n",
       "      <td>4</td>\n",
       "    </tr>\n",
       "    <tr>\n",
       "      <td>2</td>\n",
       "      <td>882686</td>\n",
       "      <td>5</td>\n",
       "    </tr>\n",
       "    <tr>\n",
       "      <td>5</td>\n",
       "      <td>885876</td>\n",
       "      <td>17</td>\n",
       "    </tr>\n",
       "    <tr>\n",
       "      <td>6</td>\n",
       "      <td>885890</td>\n",
       "      <td>21</td>\n",
       "    </tr>\n",
       "    <tr>\n",
       "      <td>15</td>\n",
       "      <td>890406</td>\n",
       "      <td>4</td>\n",
       "    </tr>\n",
       "  </tbody>\n",
       "</table>\n",
       "</div>"
      ],
      "text/plain": [
       "    operator_id  missed_call_count\n",
       "1        882684                  4\n",
       "2        882686                  5\n",
       "5        885876                 17\n",
       "6        885890                 21\n",
       "15       890406                  4"
      ]
     },
     "execution_count": 101,
     "metadata": {},
     "output_type": "execute_result"
    }
   ],
   "source": [
    "#operators with more than 3 missed incoming calls\n",
    "missed_more_three.columns=['operator_id','missed_call_count']\n",
    "missed_more_three.head()"
   ]
  },
  {
   "cell_type": "code",
   "execution_count": 102,
   "metadata": {},
   "outputs": [
    {
     "data": {
      "text/html": [
       "<div>\n",
       "<style scoped>\n",
       "    .dataframe tbody tr th:only-of-type {\n",
       "        vertical-align: middle;\n",
       "    }\n",
       "\n",
       "    .dataframe tbody tr th {\n",
       "        vertical-align: top;\n",
       "    }\n",
       "\n",
       "    .dataframe thead th {\n",
       "        text-align: right;\n",
       "    }\n",
       "</style>\n",
       "<table border=\"1\" class=\"dataframe\">\n",
       "  <thead>\n",
       "    <tr style=\"text-align: right;\">\n",
       "      <th></th>\n",
       "      <th>operator_id</th>\n",
       "      <th>call_count</th>\n",
       "    </tr>\n",
       "  </thead>\n",
       "  <tbody>\n",
       "    <tr>\n",
       "      <td>12</td>\n",
       "      <td>883018</td>\n",
       "      <td>2</td>\n",
       "    </tr>\n",
       "    <tr>\n",
       "      <td>13</td>\n",
       "      <td>883898</td>\n",
       "      <td>1</td>\n",
       "    </tr>\n",
       "    <tr>\n",
       "      <td>16</td>\n",
       "      <td>884402</td>\n",
       "      <td>1</td>\n",
       "    </tr>\n",
       "    <tr>\n",
       "      <td>17</td>\n",
       "      <td>884408</td>\n",
       "      <td>9</td>\n",
       "    </tr>\n",
       "    <tr>\n",
       "      <td>21</td>\n",
       "      <td>885682</td>\n",
       "      <td>3</td>\n",
       "    </tr>\n",
       "  </tbody>\n",
       "</table>\n",
       "</div>"
      ],
      "text/plain": [
       "    operator_id  call_count\n",
       "12       883018           2\n",
       "13       883898           1\n",
       "16       884402           1\n",
       "17       884408           9\n",
       "21       885682           3"
      ]
     },
     "execution_count": 102,
     "metadata": {},
     "output_type": "execute_result"
    }
   ],
   "source": [
    "#operators with less than 10 outgoing calls \n",
    "less_ten_call.head()"
   ]
  },
  {
   "cell_type": "code",
   "execution_count": 103,
   "metadata": {},
   "outputs": [],
   "source": [
    "#operators with call waiting time greater than 1100 seconds"
   ]
  },
  {
   "cell_type": "code",
   "execution_count": 104,
   "metadata": {},
   "outputs": [
    {
     "data": {
      "text/html": [
       "<div>\n",
       "<style scoped>\n",
       "    .dataframe tbody tr th:only-of-type {\n",
       "        vertical-align: middle;\n",
       "    }\n",
       "\n",
       "    .dataframe tbody tr th {\n",
       "        vertical-align: top;\n",
       "    }\n",
       "\n",
       "    .dataframe thead th {\n",
       "        text-align: right;\n",
       "    }\n",
       "</style>\n",
       "<table border=\"1\" class=\"dataframe\">\n",
       "  <thead>\n",
       "    <tr style=\"text-align: right;\">\n",
       "      <th></th>\n",
       "      <th>index</th>\n",
       "      <th>operator_id</th>\n",
       "      <th>call_waiting_time</th>\n",
       "    </tr>\n",
       "  </thead>\n",
       "  <tbody>\n",
       "    <tr>\n",
       "      <td>0</td>\n",
       "      <td>1</td>\n",
       "      <td>879898</td>\n",
       "      <td>1673</td>\n",
       "    </tr>\n",
       "    <tr>\n",
       "      <td>1</td>\n",
       "      <td>8</td>\n",
       "      <td>882680</td>\n",
       "      <td>1591</td>\n",
       "    </tr>\n",
       "    <tr>\n",
       "      <td>2</td>\n",
       "      <td>9</td>\n",
       "      <td>882684</td>\n",
       "      <td>9526</td>\n",
       "    </tr>\n",
       "    <tr>\n",
       "      <td>3</td>\n",
       "      <td>10</td>\n",
       "      <td>882686</td>\n",
       "      <td>11271</td>\n",
       "    </tr>\n",
       "    <tr>\n",
       "      <td>4</td>\n",
       "      <td>12</td>\n",
       "      <td>882690</td>\n",
       "      <td>7102</td>\n",
       "    </tr>\n",
       "  </tbody>\n",
       "</table>\n",
       "</div>"
      ],
      "text/plain": [
       "   index  operator_id  call_waiting_time\n",
       "0      1       879898               1673\n",
       "1      8       882680               1591\n",
       "2      9       882684               9526\n",
       "3     10       882686              11271\n",
       "4     12       882690               7102"
      ]
     },
     "execution_count": 104,
     "metadata": {},
     "output_type": "execute_result"
    }
   ],
   "source": [
    "long_total_waiting.head()"
   ]
  },
  {
   "cell_type": "code",
   "execution_count": 105,
   "metadata": {},
   "outputs": [
    {
     "data": {
      "text/plain": [
       "array([882684, 882686, 885876, 885890, 890406, 893804, 899250, 901880,\n",
       "       906404, 908960, 913938, 913942, 918978, 919166, 919204, 919206,\n",
       "       921306, 921318, 921818, 925922, 930020, 931458, 937956, 937958,\n",
       "       938896, 939370, 939706, 940616, 940658, 944216, 944218, 944220,\n",
       "       944222, 944226, 948286, 952948])"
      ]
     },
     "execution_count": 105,
     "metadata": {},
     "output_type": "execute_result"
    }
   ],
   "source": [
    "#Lets make a list for our operators having more than 3 missed calls\n",
    "high_missed_calls = missed_more_three.operator_id.unique()\n",
    "high_missed_calls"
   ]
  },
  {
   "cell_type": "code",
   "execution_count": 106,
   "metadata": {},
   "outputs": [
    {
     "data": {
      "text/plain": [
       "array([883018, 883898, 884402, 884408, 885682, 887280, 888406, 888532,\n",
       "       888536, 888538, 888540, 890226, 890234, 891192, 891250, 891744,\n",
       "       891908, 891918, 891976, 892530, 892534, 892800, 893400, 893700,\n",
       "       894226, 894230, 895266, 895598, 896010, 896014, 896018, 897894,\n",
       "       898434, 899076, 900192, 900792, 901492, 902238, 903978, 905570,\n",
       "       905840, 905862, 906076, 906392, 906398, 906402, 906418, 906420,\n",
       "       907504, 907964, 907970, 907972, 907982, 907998, 908640, 908718,\n",
       "       908834, 908984, 909134, 909892, 913474, 913984, 914170, 914256,\n",
       "       914266, 914272, 914348, 914426, 914626, 914816, 914870, 917252,\n",
       "       917682, 917876, 917890, 918888, 918958, 918988, 919162, 919190,\n",
       "       919204, 919206, 919214, 919302, 919364, 919418, 919536, 919554,\n",
       "       920928, 921062, 921102, 921104, 922114, 922486, 923254, 924370,\n",
       "       924572, 924932, 926872, 927142, 928382, 929622, 930326, 930510,\n",
       "       930690, 930692, 930814, 930816, 930820, 932246, 932676, 932754,\n",
       "       932798, 932856, 933452, 933986, 933996, 934188, 934426, 935246,\n",
       "       935548, 935956, 936296, 937362, 937366, 937368, 937422, 937716,\n",
       "       937742, 937770, 937772, 937778, 937872, 937900, 937956, 939212,\n",
       "       939236, 939698, 939716, 939736, 940436, 940568, 940610, 940782,\n",
       "       940802, 940814, 940828, 940848, 941740, 941810, 941838, 941842,\n",
       "       942174, 944228, 944246, 944560, 945058, 945074, 945274, 945898,\n",
       "       946072, 946988, 947480, 947596, 947610, 947820, 948150, 948170,\n",
       "       949420, 950806, 951186, 951332, 952196, 952462, 952916, 952968,\n",
       "       953362, 953460, 954086, 954318, 954376, 954378, 955094, 955164,\n",
       "       955820, 956276, 956292, 957022, 957922, 958440, 958444, 958672,\n",
       "       959596, 960670, 961552, 962904, 963716, 964712, 969268, 969286,\n",
       "       969288, 969294, 970240, 970242, 970244, 970250, 970252, 970254,\n",
       "       970258, 970484, 970486, 972408, 973120])"
      ]
     },
     "execution_count": 106,
     "metadata": {},
     "output_type": "execute_result"
    }
   ],
   "source": [
    "#Lets make a list for our operators having less than 10 outgoing calls\n",
    "small_outgoing_calls=less_ten_call.operator_id.unique()\n",
    "small_outgoing_calls"
   ]
  },
  {
   "cell_type": "code",
   "execution_count": 107,
   "metadata": {},
   "outputs": [
    {
     "data": {
      "text/plain": [
       "array([879898, 882680, 882684, 882686, 882690, 885876, 885890, 887276,\n",
       "       887282, 888534, 889410, 889754, 890402, 890404, 890406, 890582,\n",
       "       891410, 891414, 891416, 891900, 891906, 891988, 892532, 893402,\n",
       "       893420, 893804, 895574, 895576, 896012, 896536, 899082, 899250,\n",
       "       900194, 900352, 900354, 900592, 900892, 900894, 901178, 901350,\n",
       "       901880, 901884, 901886, 902510, 902532, 902720, 903254, 903312,\n",
       "       903318, 903512, 904038, 904044, 905104, 905538, 905542, 905564,\n",
       "       905862, 905870, 906070, 906076, 906294, 906396, 906398, 906400,\n",
       "       906404, 906406, 906408, 906410, 906680, 907224, 907502, 907982,\n",
       "       908958, 908960, 909134, 910018, 910540, 911136, 911138, 911140,\n",
       "       911310, 912010, 912296, 913788, 913938, 913942, 915556, 916424,\n",
       "       917850, 917852, 918978, 918986, 919164, 919166, 919204, 919206,\n",
       "       919552, 919554, 919790, 919792, 919794, 920666, 920706, 920720,\n",
       "       920728, 920732, 920852, 920902, 920982, 921062, 921306, 921318,\n",
       "       921320, 921818, 923526, 923528, 924960, 925104, 925922, 927070,\n",
       "       928888, 929424, 931458, 934534, 935348, 936110, 936514, 937708,\n",
       "       937732, 937736, 937752, 937760, 937762, 937780, 937788, 937808,\n",
       "       937812, 937854, 937860, 937862, 937888, 937902, 937958, 937960,\n",
       "       937962, 937966, 938414, 938896, 939370, 939376, 939474, 939706,\n",
       "       939762, 940588, 940616, 940622, 940624, 940630, 940634, 940652,\n",
       "       940658, 940952, 943066, 944210, 944216, 944218, 944220, 944222,\n",
       "       944226, 944228, 944476, 944646, 944764, 944766, 948182, 948286,\n",
       "       951506, 951508, 952948, 954650, 954750, 956480, 958460, 962658,\n",
       "       962902, 969272, 971102])"
      ]
     },
     "execution_count": 107,
     "metadata": {},
     "output_type": "execute_result"
    }
   ],
   "source": [
    "long_waiting_time=long_total_waiting.operator_id.unique()\n",
    "long_waiting_time"
   ]
  },
  {
   "cell_type": "code",
   "execution_count": 108,
   "metadata": {},
   "outputs": [
    {
     "name": "stdout",
     "output_type": "stream",
     "text": [
      "The number of rows for the entire clean call data is: 34562\n",
      "The number of rows for data of ineffective operators is: 18059\n",
      "The number of rows for data of effective operators is: 16503\n",
      "The percentage of ineffective operators data from our entire clean data is: 0.5225102713963312\n",
      "The percentage of effective operators data from our entire clean data is: 0.4774897286036688\n"
     ]
    }
   ],
   "source": [
    "#now lets get the data for our ineffective oprators\n",
    "ineffective_operators = clean_call_data.query('(operator_id in @high_missed_calls) or (operator_id in @small_outgoing_calls) or (operator_id in @long_waiting_time)')\n",
    "#now lets get the data for our ineffective oprators\n",
    "effective_operators = clean_call_data.query('(operator_id not in @high_missed_calls) and (operator_id not in @small_outgoing_calls) and (operator_id not in @long_waiting_time)')\n",
    "\n",
    "#lets see whats the split of the data\n",
    "print('The number of rows for the entire clean call data is:',len(clean_call_data))\n",
    "print('The number of rows for data of ineffective operators is:', len(ineffective_operators))\n",
    "print('The number of rows for data of effective operators is:', len(effective_operators))\n",
    "\n",
    "#and lets see what percentage of the data each split is\n",
    "print('The percentage of ineffective operators data from our entire clean data is:', len(ineffective_operators)/len(clean_call_data))\n",
    "print('The percentage of effective operators data from our entire clean data is:',len(effective_operators)/len(clean_call_data))"
   ]
  },
  {
   "cell_type": "markdown",
   "metadata": {},
   "source": [
    "#### 5.2. Distribution of ineffective and effective operators data <a class=\"anchor\" id=\"disrtibution\"></a>"
   ]
  },
  {
   "cell_type": "code",
   "execution_count": 109,
   "metadata": {},
   "outputs": [
    {
     "data": {
      "text/plain": [
       "count    18059.000000\n",
       "mean       109.173210\n",
       "std        150.955313\n",
       "min          0.000000\n",
       "25%         18.000000\n",
       "50%         51.000000\n",
       "75%        136.000000\n",
       "max       1487.000000\n",
       "Name: call_waiting_time, dtype: float64"
      ]
     },
     "execution_count": 109,
     "metadata": {},
     "output_type": "execute_result"
    }
   ],
   "source": [
    "#lets look at the descriptive statistics for our ineffective operators\n",
    "ineffective_operators.call_waiting_time.describe()"
   ]
  },
  {
   "cell_type": "code",
   "execution_count": 110,
   "metadata": {},
   "outputs": [
    {
     "data": {
      "text/plain": [
       "count    16503.000000\n",
       "mean       105.838757\n",
       "std        183.648597\n",
       "min          0.000000\n",
       "25%         13.000000\n",
       "50%         34.000000\n",
       "75%        102.000000\n",
       "max       1582.000000\n",
       "Name: call_waiting_time, dtype: float64"
      ]
     },
     "execution_count": 110,
     "metadata": {},
     "output_type": "execute_result"
    }
   ],
   "source": [
    "#lets look at the descriptive statistics for our effective operators\n",
    "effective_operators.call_waiting_time.describe()\n"
   ]
  },
  {
   "cell_type": "code",
   "execution_count": 111,
   "metadata": {},
   "outputs": [
    {
     "data": {
      "image/png": "[encoded data removed]",
      "text/plain": [
       "<Figure size 432x288 with 1 Axes>"
      ]
     },
     "metadata": {
      "needs_background": "light"
     },
     "output_type": "display_data"
    },
    {
     "data": {
      "image/png": "[encoded data removed]",
      "text/plain": [
       "<Figure size 432x288 with 1 Axes>"
      ]
     },
     "metadata": {
      "needs_background": "light"
     },
     "output_type": "display_data"
    }
   ],
   "source": [
    "#and lets plot our distributions on a  histogram for both our data sets\n",
    "sns.distplot(ineffective_operators['call_waiting_time'], hist=True, kde=True, \n",
    "             bins='auto', color = 'purple', \n",
    "             hist_kws={'edgecolor':'black'},\n",
    "             kde_kws={'linewidth': 4});\n",
    "plt.show()\n",
    "sns.distplot(effective_operators['call_waiting_time'], hist=True, kde=True, \n",
    "             bins='auto', color = 'blue', \n",
    "             hist_kws={'edgecolor':'black'},\n",
    "             kde_kws={'linewidth': 4});"
   ]
  },
  {
   "cell_type": "markdown",
   "metadata": {},
   "source": [
    "From the histograms, our distribution for the to data sets look similair. We have a positive skew for both our data sets. Our data is not distributed normally and I will therefor be conducting a mann whitney test. This is a non-paracontinuous-level test used to detect differences between two independent data sets. In contrast to the t-test; it does not compare mean scores but median scores of two samples. The goal of the test is to test for differences of the median that are caused by the independent variableThus it is much more robust against outliers and heavy tail distributions. The Mann-Whitney U Test can be applied to any distribution, whether it is Gaussian or not, and can thus be applied to our data set which is positively skewed. "
   ]
  },
  {
   "cell_type": "code",
   "execution_count": 112,
   "metadata": {},
   "outputs": [
    {
     "name": "stdout",
     "output_type": "stream",
     "text": [
      "The median call_waiting_time for ineffective operators is: 51.0\n",
      "The STD for ineffective operators is: 150.95531325825502\n",
      "The median call_waiting_time for effective operators is: 34.0\n",
      "The STD for effective operators is: 183.64859730452966\n"
     ]
    }
   ],
   "source": [
    "#lets get the mean and std for each of our data sets \n",
    "print('The median call_waiting_time for ineffective operators is:',ineffective_operators.call_waiting_time.median())\n",
    "print('The STD for ineffective operators is:', ineffective_operators.call_waiting_time.std())\n",
    "print('The median call_waiting_time for effective operators is:',effective_operators.call_waiting_time.median())\n",
    "print('The STD for effective operators is:', effective_operators.call_waiting_time.std())"
   ]
  },
  {
   "cell_type": "markdown",
   "metadata": {},
   "source": [
    "#### 5.3. Testing the hypothesis <a class=\"anchor\" id=\"test\"></a> "
   ]
  },
  {
   "cell_type": "markdown",
   "metadata": {},
   "source": [
    "Hypothesis: Here we test the hypothesis that call duration for ineffective operators and effective operators differ. \n",
    "\n",
    "- H0: There is no difference between the average waiting time for ineffective and effective operators differs\n",
    "- H1: There is a difference between he average waiting time for ineffective and effective operators differs\n",
    "- Critical statistical significance: 5%"
   ]
  },
  {
   "cell_type": "code",
   "execution_count": 113,
   "metadata": {},
   "outputs": [
    {
     "name": "stdout",
     "output_type": "stream",
     "text": [
      "p-value: 1.6407283957914092e-81\n",
      "we reject the null hypothesis, meaning there is a significant differencethe in average waiting time for ineffective and effective operators\n"
     ]
    }
   ],
   "source": [
    "# Carrying out the Wilcoxon–Mann–Whitney test\n",
    "\n",
    "effective_operators_data=effective_operators.call_waiting_time\n",
    "ineffective_operators_data=ineffective_operators.call_waiting_time\n",
    "\n",
    "alpha= 0.05\n",
    "\n",
    "results = mannwhitneyu(ineffective_operators_data, effective_operators_data)\n",
    "print('p-value:', results.pvalue)\n",
    "    \n",
    "if (results.pvalue < alpha):\n",
    "      print(\"we reject the null hypothesis, meaning there is a significant differencethe in average waiting time for ineffective and effective operators\")\n",
    "else:\n",
    "    print(\"we can not reject null hypothesis, meaning there is no significant difference between the average waiting time for ineffective and effective operators\")"
   ]
  },
  {
   "cell_type": "markdown",
   "metadata": {},
   "source": [
    "<div class=\"alert alert-success\" role=\"alert\">\n",
    "  I like how you explained each step in testing hypothesis part. You described it very well:)\n",
    "</div>"
   ]
  },
  {
   "cell_type": "markdown",
   "metadata": {},
   "source": [
    "#### 5.4. Testing hypothesis summary  <a class=\"anchor\" id=\"hypothesis_summary\"></a> "
   ]
  },
  {
   "cell_type": "markdown",
   "metadata": {},
   "source": [
    "- The data was split into effective and ineffective operators based on the conditions from the analysis.\n",
    "- The number of rows for the entire clean call data was: 34562\n",
    "- The number of rows for data of ineffective operators was: 18059\n",
    "- The number of rows for data of effective operators was: 16503\n",
    "- The percentage of ineffective operators data from our entire clean data was: 0.5225102713963312\n",
    "- The percentage of effective operators data from our entire clean data was: 0.4774897286036688\n",
    "- The distribution for the to data sets looked similair and both had a positive skew \n",
    "- The data sets were not distributed normally and we therfore decided to conduct a mann whitney test in order to test the hypothesis that they avergae call wautung time differs for ineffective and effective operator. \n",
    "- The man whitney test consucted revealed that there is a significant differencethe in average waiting time for ineffective and effective operators"
   ]
  },
  {
   "cell_type": "markdown",
   "metadata": {},
   "source": [
    "### 6. General conclusion  <a class=\"anchor\" id=\"general_conclusion\"></a>"
   ]
  },
  {
   "cell_type": "markdown",
   "metadata": {},
   "source": [
    "- An operator is considered ineffective if they have a large number of missed incoming calls (internal and external) and a long waiting time for incoming calls. Moreover, if an operator is supposed to make outgoing calls, a small number of them is also a sign of ineffectiveness.\n",
    "- Based on the analysis it was concluded that the least effective operators are those that have more than 3 missed incoming calls, less than 10 outgoing calls and a waiing time of above 1100 seconds. \n",
    "- Based on the analysis it appears that there is a significant difference in the average call waiting time for ineffective and effective operators."
   ]
  },
  {
   "cell_type": "markdown",
   "metadata": {},
   "source": [
    "### 7. Articles <a class=\"anchor\" id=\"Articles\"></a>"
   ]
  },
  {
   "cell_type": "markdown",
   "metadata": {},
   "source": [
    "- https://www.statisticssolutions.com/conduct-mann-whitney-u-test/ I used this resource to understand if the mann whitney test was appropriate, as I could not use t test here with the data bing positively skewed and not normally distributed.\n",
    "- https://towardsdatascience.com/determine-if-two-distributions-are-significantly-different-using-the-mann-whitney-u-test-1f79aa249ffb I used this resource to get a better understanding of wether or not Mann whitney is the best startistical test for the data sets. \n",
    "- https://www.marsja.se/how-to-perform-mann-whitney-u-test-in-python-with-scipy-and-pingouin/ i used this article to better understand how to perform the mann whitney test using in python language\n",
    "- https://medium.com/ml-research-lab/unpaired-independent-non-parametric-two-sample-mann-whitney-u-test-752649f8a0d5 used for  further understanding of how to consuct mann whitney in pandas\n",
    "- https://www.isixsigma.com/tools-templates/hypothesis-testing/making-sense-mann-whitney-test-median-comparison/ resource was used to better understand how the mann whitney test works "
   ]
  },
  {
   "cell_type": "markdown",
   "metadata": {},
   "source": [
    "### 8. Presentation  link<a class=\"anchor\" id=\"presentation\"></a>"
   ]
  },
  {
   "cell_type": "markdown",
   "metadata": {},
   "source": [
    "https://ufile.io/oyhrip79"
   ]
  },
  {
   "cell_type": "markdown",
   "metadata": {},
   "source": [
    "### 9. Additional task link- Building a dashboard <a class=\"anchor\" id=\"dashboard\"></a>"
   ]
  },
  {
   "cell_type": "markdown",
   "metadata": {},
   "source": [
    "https://public.tableau.com/profile/jade7386#!/vizhome/telecomoperations/CallMeMaybeTelecomDashboard?publish=yes "
   ]
  }
 ],
 "metadata": {
  "kernelspec": {
   "display_name": "Python 3",
   "language": "python",
   "name": "python3"
  },
  "language_info": {
   "codemirror_mode": {
    "name": "ipython",
    "version": 3
   },
   "file_extension": ".py",
   "mimetype": "text/x-python",
   "name": "python",
   "nbconvert_exporter": "python",
   "pygments_lexer": "ipython3",
   "version": "3.7.6"
  }
 },
 "nbformat": 4,
 "nbformat_minor": 2
}
